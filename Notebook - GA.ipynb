{
 "cells": [
  {
   "cell_type": "code",
   "execution_count": 1,
   "id": "91188268",
   "metadata": {},
   "outputs": [],
   "source": [
    "import pandas as pd\n",
    "\n",
    "# Show all rows and columns\n",
    "pd.set_option('display.max_rows', None)\n",
    "pd.set_option('display.max_columns', None)\n",
    "\n",
    "# If needed, also expand the width\n",
    "pd.set_option('display.width', None)\n",
    "pd.set_option('display.max_colwidth', None)  # or a large int\n",
    "\n",
    "from copy import deepcopy\n",
    "from random import randint, choice\n",
    "import random\n",
    "import numpy as np\n",
    "\n",
    "# from library.solution import Solution\n",
    "# from library.algorithms.hill_climbing import hill_climbing\n",
    "# from library.algorithms.simulated_annealing import simulated_annealing\n",
    "from library.wedding_solution_list import Wedding_Solution"
   ]
  },
  {
   "cell_type": "code",
   "execution_count": null,
   "id": "1ccfc405",
   "metadata": {},
   "outputs": [],
   "source": [
    "# from library.solution import Solution\n",
    "# import pandas as pd\n",
    "# # from random import randint\n",
    "# # import random\n",
    "# fitness_grid = pd.read_csv(\"library/wedding_seat_data.csv\")\n",
    "\n",
    "# class Wedding_Solution(Solution):\n",
    "#     def __init__(self, repr=None, tables=8, attendees=64, values_grid=fitness_grid):\n",
    "#         self.tables = tables\n",
    "#         self.attendees = attendees\n",
    "#         self.values_grid = values_grid\n",
    "#         self.seats_per_table = int(attendees / tables)\n",
    "\n",
    "#         if repr:\n",
    "#             repr = self._validate_repr(repr)\n",
    "\n",
    "#         super().__init__(repr=repr)\n",
    "\n",
    "#     # only used to validate the given representation (random initialization already follows these rules)\n",
    "#     def _validate_repr(self, repr):\n",
    "#         # repr needs to be a dictionary\n",
    "#         if not isinstance(repr, list):\n",
    "#             raise TypeError(\"Representation must be a list.\")\n",
    "        \n",
    "#         # this ensures that the partitions are always even and the same amounts\n",
    "#         if not (self.attendees / self.tables).is_integer():\n",
    "#             raise ValueError(\"The number of attendees and tables for this solution must divide evenly into each other.\")\n",
    "        \n",
    "#         # all the values in the repr need to be an int, if not - change to an int\n",
    "#         if not all([isinstance(table_num, int) for table_num in repr]):\n",
    "#             repr = [int(table) for table in repr]\n",
    "\n",
    "#         # the number of unique numbers in repr need to be the same as the number of tables defined\n",
    "#         if len(set(repr)) != self.tables:\n",
    "#             raise ValueError(\"Missing a table number from representation assignment: Table(s)\", set(range(1,self.tables+1)) - set(repr))\n",
    "        \n",
    "#         # there needs to be the same number of ppl at each table\n",
    "#         if not all(repr.count(x) == self.seats_per_table for x in range(1,self.tables)):\n",
    "#             raise ValueError(\"The number of people assigned to each table need to be the same.\")\n",
    "        \n",
    "#         # the length of all the attendees need to match the defined variable for attendees\n",
    "#         if len(repr) != self.attendees:\n",
    "#             raise ValueError(\"The total number of attendees in the representation need to match the defined number of attendees\")\n",
    "        \n",
    "#         return repr\n",
    "\n",
    "#     # Override the superclass's methods\n",
    "#     def random_initial_representation(self):\n",
    "#         seats = []\n",
    "#         for i in range(1,self.tables+1): # generates the same number of numbers in a row ([1] * 5 = [1,1,1,1,1])\n",
    "#             seats = seats + [i] * self.seats_per_table\n",
    "#         random.shuffle(seats) # randomly assign tables to participants\n",
    "#         return seats\n",
    "\n",
    "#     # returns the fitness of the representation / solution\n",
    "#     def fitness(self):\n",
    "#         fitness = 0\n",
    "#         for table_num in range(1, self.tables+1): # loop through the tables\n",
    "#             fitness += self.table_fitness(table_num)\n",
    "\n",
    "#         return fitness\n",
    "    \n",
    "#     # checks the fitness of a specific table instead of all the tables\n",
    "#     def table_fitness(self, table):\n",
    "#         fitness = 0\n",
    "#         table_seats = [i for i, x in enumerate(self.repr) if x == table]\n",
    "#         table_seats = [x + 1 for x in table_seats] # add 1 to everything to match the fitness grid\n",
    "#         people_seen = []\n",
    "#         for personA in table_seats: # loop through the people at the table \n",
    "#             people_seen.append(personA) # make sure to skip personA's score with themself\n",
    "#             for personB in table_seats: # compare person A with everyone else (personB) at the table\n",
    "#                 if personB not in people_seen: # skip the people that were already counted to not count them twice\n",
    "#                     fitness += self.values_grid[self.values_grid['idx'] == personA][str(personB)].values[0]\n",
    "#         return fitness\n",
    "    \n",
    "#     # clearly shows which person sits at which table for debugging purposes\n",
    "#     def pretty_print(self):\n",
    "#         tables = {i: [] for i in range(1, self.tables+1)}  # Tables 1 through 8\n",
    "\n",
    "#         for idx, table in enumerate(self.repr):\n",
    "#             tables[table].append(idx)\n",
    "\n",
    "#         print(\"----------SEATING ARRANGEMENTS----------\")\n",
    "#         for table_num in range(1, self.tables+1): \n",
    "#             # checks to see if its single digit - if so, add a space for cleaner reading\n",
    "#             # also adds 1 so that it is clear which person is being referred to\n",
    "#             indices = [f\"{i+1:2}\" for i in tables[table_num]]\n",
    "#             print(f\"Table {table_num}: [{', '.join(indices)}]\")\n",
    "#         print(\"----------------------------------------\")"
   ]
  },
  {
   "cell_type": "code",
   "execution_count": 2,
   "id": "75902d97",
   "metadata": {},
   "outputs": [
    {
     "name": "stdout",
     "output_type": "stream",
     "text": [
      "ASSIGNED INITIALIZATION: \n",
      "Repr:  [1, 3, 1, 1, 4, 2, 4, 4, 3, 3, 2, 2]\n",
      "Seats per table:  3\n",
      "Fitness:  7000\n",
      "\n",
      "RANDOM INITIALIZATION: \n",
      "Repr:  [2, 1, 3, 3, 4, 1, 3, 2, 1, 4, 2, 4]\n",
      "Seats per table:  3\n",
      "Fitness:  3400\n"
     ]
    }
   ],
   "source": [
    "tables = 4\n",
    "attendees = 12\n",
    "initial_solution = [1, 3, 1, 1, 4, 2, 4, 4, 3, 3, 2, 2]\n",
    "repr_initial_solution = Wedding_Solution(repr=initial_solution, tables=tables, attendees=attendees)\n",
    "print(\"ASSIGNED INITIALIZATION: \")\n",
    "print(\"Repr: \", repr_initial_solution)\n",
    "print(\"Seats per table: \", repr_initial_solution.seats_per_table)\n",
    "print(\"Fitness: \", repr_initial_solution.fitness())\n",
    "\n",
    "print(\"\\nRANDOM INITIALIZATION: \")\n",
    "repr = Wedding_Solution(tables=tables, attendees=attendees)\n",
    "print(\"Repr: \", repr)\n",
    "print(\"Seats per table: \", repr.seats_per_table)\n",
    "print(\"Fitness: \", repr.fitness())"
   ]
  },
  {
   "cell_type": "code",
   "execution_count": 3,
   "id": "a2b3c99e",
   "metadata": {},
   "outputs": [],
   "source": [
    "class WeddingGASolution(Wedding_Solution):\n",
    "    def __init__(\n",
    "        self,\n",
    "        mutation_function,\n",
    "        crossover_function,\n",
    "        tables,\n",
    "        attendees,\n",
    "        values_grid,\n",
    "        repr = None\n",
    "    ):\n",
    "        # Save as attributes for access in methods\n",
    "        self.mutation_function = mutation_function\n",
    "        self.crossover_function = crossover_function\n",
    "\n",
    "        super().__init__(\n",
    "            repr=repr,\n",
    "            tables=tables,\n",
    "            attendees=attendees,\n",
    "            values_grid=values_grid,\n",
    "        )\n",
    "\n",
    "    def mutation(self, mut_prob):\n",
    "        # Apply mutation function to representation\n",
    "        new_repr = self.mutation_function(self.repr, mut_prob)\n",
    "        # Create and return individual with mutated representation\n",
    "        return WeddingGASolution(\n",
    "            selection_function = self.selection_function,\n",
    "            mutation_function=self.mutation_function,\n",
    "            crossover_function=self.crossover_function,\n",
    "            repr=new_repr\n",
    "        )\n",
    "\n",
    "    def crossover(self, other_solution):\n",
    "        # Apply crossover function to self representation and other solution representation\n",
    "        offspring1_repr, offspring2_repr = self.crossover_function(self.repr, other_solution.repr)\n",
    "\n",
    "        # Create and return offspring with new representations\n",
    "        return (\n",
    "            WeddingGASolution(\n",
    "                selection_function = self.selection_function,\n",
    "                mutation_function=self.mutation_function,\n",
    "                crossover_function=self.crossover_function,\n",
    "                repr=offspring1_repr\n",
    "            ),\n",
    "            WeddingGASolution(\n",
    "                selection_function = self.selection_function,\n",
    "                mutation_function=self.mutation_function,\n",
    "                crossover_function=self.crossover_function,\n",
    "                repr=offspring2_repr\n",
    "            )\n",
    "        )"
   ]
  },
  {
   "cell_type": "code",
   "execution_count": 3,
   "id": "e948d6de",
   "metadata": {},
   "outputs": [
    {
     "name": "stdout",
     "output_type": "stream",
     "text": [
      "[6, 1, 2, 8, 5, 8, 6, 7, 3, 7, 4, 5, 1, 8, 2, 5, 4, 5, 6, 5, 6, 3, 2, 8, 8, 4, 3, 3, 6, 8, 2, 3, 4, 7, 7, 8, 1, 7, 6, 7, 2, 8, 6, 4, 1, 4, 2, 1, 1, 6, 1, 2, 3, 3, 4, 2, 7, 7, 5, 5, 1, 5, 4, 3]\n",
      "----------SEATING ARRANGEMENTS----------\n",
      "Table 1: [ 2, 13, 37, 45, 48, 49, 51, 61]\n",
      "Table 2: [ 3, 15, 23, 31, 41, 47, 52, 56]\n",
      "Table 3: [ 9, 22, 27, 28, 32, 53, 54, 64]\n",
      "Table 4: [11, 17, 26, 33, 44, 46, 55, 63]\n",
      "Table 5: [ 5, 12, 16, 18, 20, 59, 60, 62]\n",
      "Table 6: [ 1,  7, 19, 21, 29, 39, 43, 50]\n",
      "Table 7: [ 8, 10, 34, 35, 38, 40, 57, 58]\n",
      "Table 8: [ 4,  6, 14, 24, 25, 30, 36, 42]\n",
      "----------------------------------------\n"
     ]
    }
   ],
   "source": [
    "repr = Wedding_Solution()\n",
    "print(repr)\n",
    "repr.pretty_print()"
   ]
  },
  {
   "cell_type": "code",
   "execution_count": 4,
   "id": "6360169c",
   "metadata": {},
   "outputs": [
    {
     "name": "stdout",
     "output_type": "stream",
     "text": [
      "Didn't Enter.\n",
      "Chosen x:  0.62\n"
     ]
    }
   ],
   "source": [
    "mut_prob = 0.5\n",
    "x = 0.62#random.random()\n",
    "\n",
    "# if x <= mut_prob:\n",
    "#     print(\"Entered.\")\n",
    "# else:\n",
    "#     print(\"Didn't Enter.\")\n",
    "\n",
    "if x > mut_prob:\n",
    "    print(\"Didn't Enter.\")\n",
    "else:\n",
    "    print(\"Entered.\")\n",
    "\n",
    "print(\"Chosen x: \", round(x,2))"
   ]
  },
  {
   "cell_type": "markdown",
   "id": "89b7dd28",
   "metadata": {},
   "source": [
    "### Selection Algorithms\n",
    "\n",
    "- Fitness Proportionate Selection <span style=\"color:red\">(from class)</span>\n",
    "- Ranking\n",
    "- Tournament"
   ]
  },
  {
   "cell_type": "markdown",
   "id": "9fc55831",
   "metadata": {},
   "source": [
    "### Ranking Selection\n",
    "\n",
    "<span style=\"color:red\">[CHANGE] Get from textbook - currently chatgpt</span>\n",
    "- Evaluate fitness of all individuals in the population.\n",
    "\n",
    "- Sort individuals from best to worst based on fitness.\n",
    "\n",
    "- Assign ranks (e.g., rank 1 for worst, rank N for best).\n",
    "\n",
    "- Convert ranks into selection probabilities\n",
    "\n",
    " ![Ranking](ranks.png)\n",
    "\n",
    "Or use linear ranking or exponential ranking schemes to control selection pressure.\n",
    "\n",
    "- Select individuals based on those probabilities"
   ]
  },
  {
   "cell_type": "code",
   "execution_count": 5,
   "id": "45a55fbb",
   "metadata": {},
   "outputs": [],
   "source": [
    "def ranking_selection(population, maximization):\n",
    "    # evalutate the fitness and get the total fitness\n",
    "    total_fitness = 0\n",
    "    fitness_list = [] # list of tuples (ind, fitness)\n",
    "    for indiv in population:\n",
    "        fitness = indiv.fitness()\n",
    "        fitness_list.append((indiv, fitness))\n",
    "        total_fitness += fitness\n",
    "\n",
    "    # sort by fitness (if max, sort in desc, otherwise, asc)\n",
    "    if maximization:\n",
    "        sorted(fitness_list, key=lambda x: x[1], reverse=True)\n",
    "    else:   \n",
    "        sorted(fitness_list, key=lambda x: x[1])\n",
    "            \n",
    "    # ranks will the the index in the list so index 0 will have rank 1\n",
    "    # converting ranks to probabilities - the index of the rank list will match the index of the fitness_list\n",
    "    rank_prob_list = []\n",
    "    rank_summation = sum(list(range(1,65)))\n",
    "    for index, indiv in enumerate(fitness_list):\n",
    "        rank = index+1\n",
    "        rank_prob = rank / rank_summation\n",
    "        rank_prob_list.append(rank_prob)\n",
    "\n",
    "    # select indiv\n",
    "    selection = random.choices(fitness_list, weights=rank_prob_list)\n",
    "    \n",
    "    print(\"Selected individual \" + str(selection))\n",
    "    selection[0][0].pretty_print()\n",
    "\n",
    "    return selection\n"
   ]
  },
  {
   "cell_type": "code",
   "execution_count": 6,
   "id": "7222cd5c",
   "metadata": {},
   "outputs": [
    {
     "name": "stdout",
     "output_type": "stream",
     "text": [
      "[6300, 12300, 11200, 17700, 12300, 10700, 9600, 14500, 14000]\n",
      "--------\n",
      "Selected individual [([4, 5, 6, 2, 7, 8, 6, 4, 1, 6, 3, 4, 5, 7, 2, 2, 5, 1, 7, 8, 5, 6, 7, 8, 8, 1, 7, 5, 6, 6, 2, 2, 5, 3, 3, 1, 1, 7, 2, 5, 4, 2, 3, 4, 5, 3, 4, 6, 4, 7, 8, 3, 7, 3, 8, 8, 6, 2, 1, 4, 8, 1, 3, 1], 14000)]\n",
      "----------SEATING ARRANGEMENTS----------\n",
      "Table 1: [ 9, 18, 26, 36, 37, 59, 62, 64]\n",
      "Table 2: [ 4, 15, 16, 31, 32, 39, 42, 58]\n",
      "Table 3: [11, 34, 35, 43, 46, 52, 54, 63]\n",
      "Table 4: [ 1,  8, 12, 41, 44, 47, 49, 60]\n",
      "Table 5: [ 2, 13, 17, 21, 28, 33, 40, 45]\n",
      "Table 6: [ 3,  7, 10, 22, 29, 30, 48, 57]\n",
      "Table 7: [ 5, 14, 19, 23, 27, 38, 50, 53]\n",
      "Table 8: [ 6, 20, 24, 25, 51, 55, 56, 61]\n",
      "----------------------------------------\n"
     ]
    }
   ],
   "source": [
    "population = []\n",
    "fitness_list = []\n",
    "for _ in range(1, 10):\n",
    "    x = Wedding_Solution()\n",
    "    population.append(x)\n",
    "    fitness_list.append(x.fitness())\n",
    "\n",
    "print(fitness_list)\n",
    "print(\"--------\")\n",
    "selected = ranking_selection(population=population, maximization=True)"
   ]
  },
  {
   "cell_type": "markdown",
   "id": "75311177",
   "metadata": {},
   "source": [
    "### Tournament Selection\n",
    "\n",
    "<span style=\"color:red\">[CHANGE] Get from textbook - currently chatgpt</span>\n",
    "\n",
    "- Randomly select k individuals from the population (the \"tournament\").\n",
    "\n",
    "- Evaluate their fitness.\n",
    "\n",
    "- Choose the best one from that group to be a parent.\n",
    "\n",
    "- Repeat until you've selected as many parents as needed."
   ]
  },
  {
   "cell_type": "code",
   "execution_count": 7,
   "id": "52fc811b",
   "metadata": {},
   "outputs": [],
   "source": [
    "def tournament_selection(population, maximization):\n",
    "    # randomly select the number of indivs to compare\n",
    "    tourney_indivs_num = randint(2, int(len(population)/2)) # limiting range to half the population size\n",
    "    tourney_indivs_start_idx = randint(0, len(population)-tourney_indivs_num)\n",
    "    tourney_indivs_end_idx = tourney_indivs_start_idx + tourney_indivs_num\n",
    "    tourney_indivs = population[tourney_indivs_start_idx:tourney_indivs_end_idx]\n",
    "\n",
    "    print(\"Range: \" + str(tourney_indivs_start_idx) + \" - \" + str(tourney_indivs_end_idx))\n",
    "\n",
    "    # get the subset's fitnesses\n",
    "    fitness_list = [(ind, ind.fitness()) for ind in tourney_indivs]\n",
    "\n",
    "    # select the best individual (if max, get the max(), otherwise, get the min())\n",
    "    if maximization:\n",
    "        selection = max(fitness_list, key=lambda x: x[1])\n",
    "    else:\n",
    "        selection = min(fitness_list, key=lambda x: x[1])\n",
    "\n",
    "    print(\"Selected individual \" + str(selection))\n",
    "    selection[0].pretty_print()\n",
    "    \n",
    "    return selection"
   ]
  },
  {
   "cell_type": "code",
   "execution_count": 8,
   "id": "b9b4abcf",
   "metadata": {},
   "outputs": [
    {
     "name": "stdout",
     "output_type": "stream",
     "text": [
      "[12800, 8400, 13500, 14400, 9700, 13600, 17900, 11700, 8800]\n",
      "--------\n",
      "Range: 1 - 3\n",
      "Selected individual ([4, 8, 4, 1, 3, 5, 1, 2, 1, 5, 7, 7, 4, 2, 1, 4, 6, 8, 2, 3, 5, 6, 4, 4, 3, 7, 5, 8, 2, 5, 8, 1, 7, 6, 4, 1, 1, 8, 5, 5, 2, 6, 8, 2, 3, 8, 7, 3, 5, 6, 7, 4, 2, 6, 3, 3, 3, 1, 6, 7, 2, 6, 8, 7], 13500)\n",
      "----------SEATING ARRANGEMENTS----------\n",
      "Table 1: [ 4,  7,  9, 15, 32, 36, 37, 58]\n",
      "Table 2: [ 8, 14, 19, 29, 41, 44, 53, 61]\n",
      "Table 3: [ 5, 20, 25, 45, 48, 55, 56, 57]\n",
      "Table 4: [ 1,  3, 13, 16, 23, 24, 35, 52]\n",
      "Table 5: [ 6, 10, 21, 27, 30, 39, 40, 49]\n",
      "Table 6: [17, 22, 34, 42, 50, 54, 59, 62]\n",
      "Table 7: [11, 12, 26, 33, 47, 51, 60, 64]\n",
      "Table 8: [ 2, 18, 28, 31, 38, 43, 46, 63]\n",
      "----------------------------------------\n"
     ]
    }
   ],
   "source": [
    "population = []\n",
    "fitness_list = []\n",
    "for _ in range(1, 10):\n",
    "    x = Wedding_Solution()\n",
    "    population.append(x)\n",
    "    fitness_list.append(x.fitness())\n",
    "\n",
    "print(fitness_list)\n",
    "print(\"--------\")\n",
    "selected = tournament_selection(population=population, maximization=True)"
   ]
  },
  {
   "cell_type": "markdown",
   "id": "1d2409ff",
   "metadata": {},
   "source": [
    "## Mutation\n",
    "\n",
    "- swap mutation <span style=\"color:red\">(from class)</span> <span style=\"color:orange\">(check if greedy is different enough to use)</span> \n",
    "- scramble mutation\n",
    "- inversion mutation <span style=\"color:red\">(from class)</span>\n",
    "- tableswap mutation"
   ]
  },
  {
   "cell_type": "markdown",
   "id": "5f192d6e",
   "metadata": {},
   "source": [
    "### Greedy Swap Mutation"
   ]
  },
  {
   "cell_type": "code",
   "execution_count": null,
   "id": "d24ff31f",
   "metadata": {},
   "outputs": [],
   "source": [
    "# make it genuinly greedy by starting to make personB the max of the ppl with relationships (sort descending)\n",
    "def greedy_swap_mutation(representation, attendees_num, mut_prob, fitness_grid):\n",
    "    new_repr = deepcopy(representation)\n",
    "\n",
    "    # random chance to do the mutation\n",
    "    if random.random() > mut_prob:\n",
    "        print(\"Randomly chosen to not implement.\")\n",
    "        return new_repr\n",
    "\n",
    "    # selects random different tables to swap from, \n",
    "    randomPersonA = randint(1, attendees_num)\n",
    "    randomTableA = new_repr[randomPersonA-1]\n",
    "\n",
    "    # get positivley valued neighbors\n",
    "    filtered = fitness_grid[fitness_grid['idx'] == randomPersonA].iloc[0]\n",
    "    filtered = filtered.drop('idx')\n",
    "    peopleWithRelationship = [int(x) for x in filtered[filtered > 0].index] # only getting the attendees that are valued by randomPersonA\n",
    "    peopleWithRelationship = sorted(peopleWithRelationship, reverse=True)\n",
    "\n",
    "    # determine person B (don't choose someone from the same table)\n",
    "    randomPersonB = None\n",
    "    for personB in peopleWithRelationship:\n",
    "        randomPersonB = personB\n",
    "        randomTableB = new_repr[personB-1]\n",
    "        if randomTableA == randomTableB:\n",
    "            continue\n",
    "        else:\n",
    "            break\n",
    "\n",
    "    # if there are no values people that don't share the same table as A, randomly choose B\n",
    "    if randomPersonB == None:\n",
    "        randomPersonB = randint(1, attendees_num)\n",
    "        randomTableB = new_repr[randomPersonB-1]\n",
    "        while randomTableB == randomTableA: # always choose a different table\n",
    "            randomPersonB = randint(1, attendees_num)\n",
    "            randomTableB = new_repr[randomPersonB-1]\n",
    "\n",
    "    # select someone random from tableA thats not randomPersonA\n",
    "    # get everyone from randomTableA\n",
    "    tableA_seats = [i for i, x in enumerate(new_repr) if x == randomTableA]\n",
    "    tableA_seats = [x + 1 for x in tableA_seats] # add 1 to everything to match the fitness grid\n",
    "    tableA_seats.remove(randomPersonA) # remove personA from the list\n",
    "    randomPersonC = random.choice(tableA_seats)\n",
    "\n",
    "    # Swap the two people between the tables\n",
    "    new_repr[randomPersonC-1] = randomTableB\n",
    "    new_repr[randomPersonB-1] = randomTableA\n",
    "\n",
    "    print(\"Swapped personC #\" + str(randomPersonC) + \" at table \" + str(randomTableA) + \" with personB #\" + str(personB) + \" at table \" + str(randomTableB) + \" for personA #\" + str(randomPersonA))\n",
    "\n",
    "    return Wedding_Solution(repr=new_repr)"
   ]
  },
  {
   "cell_type": "code",
   "execution_count": 17,
   "id": "151fde75",
   "metadata": {},
   "outputs": [
    {
     "name": "stdout",
     "output_type": "stream",
     "text": [
      "Swapped personC #62 at table 5 with personB #28 at table 3 for personA #16\n",
      "Swapped: [6, 1, 2, 8, 5, 8, 6, 7, 3, 7, 4, 5, 1, 8, 2, 5, 4, 5, 6, 5, 6, 3, 2, 8, 8, 4, 3, 5, 6, 8, 2, 3, 4, 7, 7, 8, 1, 7, 6, 7, 2, 8, 6, 4, 1, 4, 2, 1, 1, 6, 1, 2, 3, 3, 4, 2, 7, 7, 5, 5, 1, 3, 4, 3] Fitness: 14600\n",
      "Original: [6, 1, 2, 8, 5, 8, 6, 7, 3, 7, 4, 5, 1, 8, 2, 5, 4, 5, 6, 5, 6, 3, 2, 8, 8, 4, 3, 3, 6, 8, 2, 3, 4, 7, 7, 8, 1, 7, 6, 7, 2, 8, 6, 4, 1, 4, 2, 1, 1, 6, 1, 2, 3, 3, 4, 2, 7, 7, 5, 5, 1, 5, 4, 3] Fitness: 13400\n"
     ]
    }
   ],
   "source": [
    "swap_repr = greedy_swap_mutation(repr.repr, repr.attendees, 1, repr.values_grid)\n",
    "print(\"Swapped: \" + str(swap_repr.repr) + \" Fitness: \" + str(swap_repr.fitness()))\n",
    "print(\"Original: \" + str(repr.repr) + \" Fitness: \" + str(repr.fitness()))"
   ]
  },
  {
   "cell_type": "markdown",
   "id": "cb1d6a87",
   "metadata": {},
   "source": [
    "### Scramble Mutation"
   ]
  },
  {
   "cell_type": "code",
   "execution_count": 27,
   "id": "2a4aca1c",
   "metadata": {},
   "outputs": [],
   "source": [
    "def scramble_mutation(representation, attendees_num, mut_prob):\n",
    "    new_repr = deepcopy(representation)\n",
    "\n",
    "    # random chance to do the mutation\n",
    "    if random.random() > mut_prob:\n",
    "        print(\"Randomly chosen to not implement.\")\n",
    "        return new_repr\n",
    "\n",
    "    # limit the number of people that can be shuffled to at max 10\n",
    "    if attendees_num < 10:\n",
    "        limit = int(attendees_num / 2)\n",
    "    else:\n",
    "        limit = 10\n",
    "\n",
    "    # choose a random number of people to get a subset\n",
    "    numOfPeopleToShuffle = randint(2, limit) # cant shuffle 1 person, nothing would change\n",
    "\n",
    "    startPerson = randint(0, attendees_num-numOfPeopleToShuffle) # set the biggest number it can randomly choose as the total - the number aimed to shuffle\n",
    "    stopPerson = startPerson + numOfPeopleToShuffle\n",
    "    \n",
    "    print(\"Number to shuffle: \", numOfPeopleToShuffle)\n",
    "    print(\"Range to shuffle: \" + str(startPerson) + \" - \" + str(stopPerson))\n",
    "\n",
    "    # shuffle the subset\n",
    "    peopleToShuffle = new_repr[startPerson:stopPerson]\n",
    "    random.shuffle(peopleToShuffle)\n",
    "    new_repr[startPerson:stopPerson] = peopleToShuffle\n",
    "\n",
    "    return Wedding_Solution(repr=new_repr)"
   ]
  },
  {
   "cell_type": "code",
   "execution_count": 40,
   "id": "f52aa8e8",
   "metadata": {},
   "outputs": [
    {
     "name": "stdout",
     "output_type": "stream",
     "text": [
      "Number to shuffle:  7\n",
      "Range to shuffle: 12 - 19\n",
      "Scrambled: [6, 1, 2, 8, 5, 8, 6, 7, 3, 7, 4, 5, 5, 6, 4, 5, 1, 2, 8, 5, 6, 3, 2, 8, 8, 4, 3, 3, 6, 8, 2, 3, 4, 7, 7, 8, 1, 7, 6, 7, 2, 8, 6, 4, 1, 4, 2, 1, 1, 6, 1, 2, 3, 3, 4, 2, 7, 7, 5, 5, 1, 5, 4, 3] Fitness: 10700\n",
      "Original: [6, 1, 2, 8, 5, 8, 6, 7, 3, 7, 4, 5, 1, 8, 2, 5, 4, 5, 6, 5, 6, 3, 2, 8, 8, 4, 3, 3, 6, 8, 2, 3, 4, 7, 7, 8, 1, 7, 6, 7, 2, 8, 6, 4, 1, 4, 2, 1, 1, 6, 1, 2, 3, 3, 4, 2, 7, 7, 5, 5, 1, 5, 4, 3] Fitness: 13400\n"
     ]
    }
   ],
   "source": [
    "scramble_repr = scramble_mutation(repr.repr, repr.attendees, 1)\n",
    "print(\"Scrambled: \" + str(scramble_repr.repr) + \" Fitness: \" + str(scramble_repr.fitness()))\n",
    "print(\"Original: \" + str(repr.repr) + \" Fitness: \" + str(repr.fitness()))"
   ]
  },
  {
   "cell_type": "markdown",
   "id": "0b480df5",
   "metadata": {},
   "source": [
    "### Inversion Mutation"
   ]
  },
  {
   "cell_type": "code",
   "execution_count": 41,
   "id": "00f1ce87",
   "metadata": {},
   "outputs": [],
   "source": [
    "def inversion_mutation(representation, attendees_num, mut_prob):\n",
    "    new_repr = deepcopy(representation)\n",
    "    \n",
    "    # random chance to do the mutation\n",
    "    if random.random() >= mut_prob:\n",
    "        print(\"Randomly chosen to not implement.\")\n",
    "        return new_repr\n",
    "    \n",
    "    # limit the number of people that can be shuffled to at max 10\n",
    "    if attendees_num < 10:\n",
    "        limit = int(attendees_num / 2)\n",
    "    else:\n",
    "        limit = 10\n",
    "\n",
    "    # choose a random number of people to get a subset\n",
    "    numOfPeopleToInvert = randint(2, limit) # cant invert 1 person, nothing would change - limiting to 10 indivs for less disruption\n",
    "\n",
    "    startPerson = randint(0, attendees_num-numOfPeopleToInvert) # set the biggest number it can randomly choose as the total - the number aimed to shuffle\n",
    "    stopPerson = startPerson + numOfPeopleToInvert\n",
    "\n",
    "    print(\"Number to invert: \", numOfPeopleToInvert)\n",
    "    print(\"Range to invert: \" + str(startPerson) + \" - \" + str(stopPerson))\n",
    "\n",
    "    # shuffle the subset\n",
    "    peopleToInvert = new_repr[startPerson:stopPerson]\n",
    "    print(peopleToInvert)\n",
    "    peopleToInvert.reverse()\n",
    "    print(peopleToInvert)\n",
    "    print(\"---------\")\n",
    "    new_repr[startPerson:stopPerson] = peopleToInvert\n",
    "    \n",
    "    return Wedding_Solution(repr=new_repr)"
   ]
  },
  {
   "cell_type": "code",
   "execution_count": 43,
   "id": "eb6c28bf",
   "metadata": {},
   "outputs": [
    {
     "name": "stdout",
     "output_type": "stream",
     "text": [
      "Number to invert:  8\n",
      "Range to invert: 41 - 49\n",
      "[8, 6, 4, 1, 4, 2, 1, 1]\n",
      "[1, 1, 2, 4, 1, 4, 6, 8]\n",
      "---------\n",
      "Inverted: [6, 1, 2, 8, 5, 8, 6, 7, 3, 7, 4, 5, 1, 8, 2, 5, 4, 5, 6, 5, 6, 3, 2, 8, 8, 4, 3, 3, 6, 8, 2, 3, 4, 7, 7, 8, 1, 7, 6, 7, 2, 1, 1, 2, 4, 1, 4, 6, 8, 6, 1, 2, 3, 3, 4, 2, 7, 7, 5, 5, 1, 5, 4, 3] Fitness: 13900\n",
      "Original: [6, 1, 2, 8, 5, 8, 6, 7, 3, 7, 4, 5, 1, 8, 2, 5, 4, 5, 6, 5, 6, 3, 2, 8, 8, 4, 3, 3, 6, 8, 2, 3, 4, 7, 7, 8, 1, 7, 6, 7, 2, 8, 6, 4, 1, 4, 2, 1, 1, 6, 1, 2, 3, 3, 4, 2, 7, 7, 5, 5, 1, 5, 4, 3] Fitness: 13400\n"
     ]
    }
   ],
   "source": [
    "inversion_repr = inversion_mutation(repr.repr, repr.attendees, 1)\n",
    "print(\"Inverted: \" + str(inversion_repr.repr) + \" Fitness: \" + str(inversion_repr.fitness()))\n",
    "print(\"Original: \" + str(repr.repr) + \" Fitness: \" + str(repr.fitness()))"
   ]
  },
  {
   "cell_type": "markdown",
   "id": "c1be5b34",
   "metadata": {},
   "source": [
    "### TableSwap Mutation"
   ]
  },
  {
   "cell_type": "code",
   "execution_count": 96,
   "id": "9180309e",
   "metadata": {},
   "outputs": [],
   "source": [
    "def tableswap_mutation(representation, mut_prob):\n",
    "    new_repr = deepcopy(representation)\n",
    "\n",
    "    table_count = max(set(representation))\n",
    "\n",
    "    # random chance to do the mutation\n",
    "    if random.random() >= mut_prob:\n",
    "        print(\"Randomly chosen to not implement.\")\n",
    "        return new_repr\n",
    "    \n",
    "    peopleToSwap = []\n",
    "    for table_num in range(1, table_count+1):\n",
    "        table_seats = [i+1 for i, val in enumerate(new_repr) if val == table_num]\n",
    "        peopleToSwap.append(random.choice(table_seats))\n",
    "\n",
    "    print(peopleToSwap)\n",
    "\n",
    "    return None"
   ]
  },
  {
   "cell_type": "code",
   "execution_count": 93,
   "id": "a0ec895e",
   "metadata": {},
   "outputs": [
    {
     "name": "stdout",
     "output_type": "stream",
     "text": [
      "----------SEATING ARRANGEMENTS----------\n",
      "Table 1: [ 2,  6,  9]\n",
      "Table 2: [ 1,  8, 11]\n",
      "Table 3: [ 3,  4,  7]\n",
      "Table 4: [ 5, 10, 12]\n",
      "----------------------------------------\n"
     ]
    }
   ],
   "source": [
    "repr.pretty_print()"
   ]
  },
  {
   "cell_type": "code",
   "execution_count": 100,
   "id": "452aca0b",
   "metadata": {},
   "outputs": [
    {
     "name": "stdout",
     "output_type": "stream",
     "text": [
      "[9, 1, 7, 5]\n"
     ]
    }
   ],
   "source": [
    "tableswap_mutation(repr.repr, 1)"
   ]
  },
  {
   "cell_type": "markdown",
   "id": "0d256c65",
   "metadata": {},
   "source": [
    "## Crossover\n",
    "\n",
    "- <s>standard crossover</s> <span style=\"color:red\">not usable</span>\n",
    "- cycle crossover <span style=\"color:red\">(from class)</span>\n",
    "- order crossover <span style=\"color:red\">(from chatgpt)</span>"
   ]
  },
  {
   "cell_type": "code",
   "execution_count": 7,
   "id": "c5e58233",
   "metadata": {},
   "outputs": [
    {
     "name": "stdout",
     "output_type": "stream",
     "text": [
      "[2, 3, 3, 4, 4, 1, 2, 3, 1, 2, 2, 3, 4, 1, 1, 4]\n",
      "Fitness: 3400\n",
      "----------SEATING ARRANGEMENTS----------\n",
      "Table 1: [ 6,  9, 14, 15]\n",
      "Table 2: [ 1,  7, 10, 11]\n",
      "Table 3: [ 2,  3,  8, 12]\n",
      "Table 4: [ 4,  5, 13, 16]\n",
      "----------------------------------------\n"
     ]
    }
   ],
   "source": [
    "tables = 4\n",
    "attendees = 16\n",
    "repr_2 = Wedding_Solution(tables=tables, attendees=attendees)\n",
    "print(repr_2)\n",
    "print(\"Fitness: \" + str(repr_2.fitness()))\n",
    "repr_2.pretty_print()"
   ]
  },
  {
   "cell_type": "code",
   "execution_count": 8,
   "id": "b93df962",
   "metadata": {},
   "outputs": [
    {
     "name": "stdout",
     "output_type": "stream",
     "text": [
      "[1, 1, 1, 2, 4, 2, 4, 2, 1, 3, 3, 2, 4, 3, 3, 4]\n",
      "Fitness: 8600\n",
      "----------SEATING ARRANGEMENTS----------\n",
      "Table 1: [ 1,  2,  3,  9]\n",
      "Table 2: [ 4,  6,  8, 12]\n",
      "Table 3: [10, 11, 14, 15]\n",
      "Table 4: [ 5,  7, 13, 16]\n",
      "----------------------------------------\n"
     ]
    }
   ],
   "source": [
    "repr_3 = Wedding_Solution(tables=tables, attendees=attendees)\n",
    "print(repr_3)\n",
    "print(\"Fitness: \" + str(repr_3.fitness()))\n",
    "repr_3.pretty_print()"
   ]
  },
  {
   "cell_type": "markdown",
   "id": "a8ff4260",
   "metadata": {},
   "source": [
    "### Standard Crossover\n",
    "\n",
    "> Standard Crossover can't work as the number of tables assigned have to be a certain number"
   ]
  },
  {
   "cell_type": "code",
   "execution_count": null,
   "id": "71fe4b38",
   "metadata": {},
   "outputs": [],
   "source": [
    "# def standard_crossover(parent1_repr, parent2_repr):\n",
    "\n",
    "#     crossoverPoint = randint(1, len(parent1_repr)-1) # cant be 0\n",
    "#     print(\"CrossOver Point: \" + str(crossoverPoint))\n",
    "#     child1_repr = parent1_repr[:crossoverPoint] + parent2_repr[crossoverPoint:]\n",
    "#     child2_repr = parent2_repr[:crossoverPoint] + parent1_repr[crossoverPoint:]\n",
    "\n",
    "#     print(\"Child1: \",child1_repr)\n",
    "#     print(\"Child2: \",child2_repr)\n",
    "\n",
    "#     return [Wedding_Solution(repr=child1_repr), Wedding_Solution(repr=child2_repr)]"
   ]
  },
  {
   "cell_type": "code",
   "execution_count": null,
   "id": "ee5f4a56",
   "metadata": {},
   "outputs": [],
   "source": [
    "# inversion_repr = standard_crossover(repr.repr, repr_2.repr)\n",
    "# # print(inversion_repr)\n",
    "# print(repr.repr)\n",
    "# print(repr_2.repr)\n",
    "# print(\"-------\")\n",
    "# print(inversion_repr[0].repr)\n",
    "# print(inversion_repr[1].repr)"
   ]
  },
  {
   "cell_type": "code",
   "execution_count": null,
   "id": "eb85f6d5",
   "metadata": {},
   "outputs": [],
   "source": [
    "[1,2,3,4,5] [1,1,2,2,3,3,4,4]"
   ]
  },
  {
   "cell_type": "markdown",
   "id": "859f9101",
   "metadata": {},
   "source": [
    "### Cycle Crossover"
   ]
  },
  {
   "cell_type": "code",
   "execution_count": null,
   "id": "16d0a596",
   "metadata": {},
   "outputs": [],
   "source": [
    "def cycle_crossover(parent1_repr, parent2_repr):\n",
    "    start_idx = randint(0, len(parent1_repr)-1)\n",
    "    print(\"Start idx: \" + str(start_idx))\n",
    "\n",
    "    # Initialize the cycle with the starting index\n",
    "    cycle_idxs = [start_idx]\n",
    "    current_cycle_idx = start_idx\n",
    "\n",
    "    tables1_dict = {}\n",
    "    tables2_dict = {}\n",
    "    for idx in range(0, len(parent1_repr)):\n",
    "\n",
    "        # fill the tables per index for repr2\n",
    "        if parent2_repr[idx] not in tables2_dict.keys():\n",
    "            tables2_dict[parent2_repr[idx]] = [idx]\n",
    "        else:\n",
    "            tables2_dict[parent2_repr[idx]].append(idx)\n",
    "\n",
    "        # fill the tables per index for repr1\n",
    "        if parent1_repr[idx] not in tables1_dict.keys():\n",
    "            tables1_dict[parent1_repr[idx]] = [idx]\n",
    "        else:\n",
    "            tables1_dict[parent1_repr[idx]].append(idx)\n",
    "\n",
    "    # Traverse the cycle by following the mapping from parent2 to parent1\n",
    "    while True:\n",
    "        table_parent2 = parent2_repr[current_cycle_idx] #\n",
    "\n",
    "        # Find where this value is in parent1 to get the next index in the cycle\n",
    "        next_cycle_idx = random.choice(tables1_dict[table_parent2])\n",
    "        print(\"Chose idx #\" + str(next_cycle_idx) + \" from parent 2.\")\n",
    "        tables1_dict[table_parent2].remove(next_cycle_idx)\n",
    "\n",
    "        # Closed the cycle -> Break\n",
    "        if next_cycle_idx == start_idx:\n",
    "            break\n",
    "\n",
    "        cycle_idxs.append(next_cycle_idx)\n",
    "        current_cycle_idx = next_cycle_idx\n",
    "\n",
    "    offspring1_repr = []\n",
    "    offspring2_repr = []\n",
    "    for idx in range(len(parent1_repr)):\n",
    "        if idx in cycle_idxs:\n",
    "            # Keep values from parent1 in offspring1 in the cycle indexes\n",
    "            offspring1_repr.append(parent1_repr[idx])\n",
    "            # Keep values from parent2 in offspring2 in the cycle indexes\n",
    "            offspring2_repr.append(parent2_repr[idx])\n",
    "        else:\n",
    "            # Swap elements from parents in non-cycle indexes\n",
    "            offspring1_repr.append(parent2_repr[idx])\n",
    "            offspring2_repr.append(parent1_repr[idx])\n",
    "\n",
    "    # To keep the same type as the parents representation\n",
    "    if isinstance(parent1_repr, str) and isinstance(parent2_repr, str):\n",
    "        offspring1_repr = \"\".join(offspring1_repr)\n",
    "        offspring2_repr = \"\".join(offspring2_repr)\n",
    "\n",
    "    return offspring1_repr, offspring2_repr"
   ]
  },
  {
   "cell_type": "code",
   "execution_count": 52,
   "id": "fda0a124",
   "metadata": {},
   "outputs": [
    {
     "name": "stdout",
     "output_type": "stream",
     "text": [
      "Start idx: 7\n",
      "Chose idx #6 from parent 2.\n",
      "Chose idx #3 from parent 2.\n",
      "Chose idx #0 from parent 2.\n",
      "Chose idx #5 from parent 2.\n",
      "Chose idx #9 from parent 2.\n",
      "Chose idx #2 from parent 2.\n",
      "Chose idx #13 from parent 2.\n",
      "Chose idx #7 from parent 2.\n",
      "[2, 3, 3, 4, 4, 1, 2, 3, 1, 2, 2, 3, 4, 1, 1, 4]\n",
      "[1, 1, 1, 2, 4, 2, 4, 2, 1, 3, 3, 2, 4, 3, 3, 4]\n",
      "-------\n",
      "[2, 1, 3, 4, 4, 1, 2, 3, 1, 2, 3, 2, 4, 1, 3, 4]\n",
      "[1, 3, 1, 2, 4, 2, 4, 2, 1, 3, 2, 3, 4, 3, 1, 4]\n"
     ]
    }
   ],
   "source": [
    "cycle_repr = cycle_crossover(repr_2.repr, repr_3.repr)\n",
    "# print(inversion_repr)\n",
    "print(repr_2.repr)\n",
    "print(repr_3.repr)\n",
    "print(\"-------\")\n",
    "print(cycle_repr[0])\n",
    "print(cycle_repr[1])"
   ]
  },
  {
   "cell_type": "markdown",
   "id": "78a1ff60",
   "metadata": {},
   "source": [
    "### Order Crossover\n",
    "<span style=\"color:red\">[CHANGE] needs to be reworded - chatgpt atm</span>\n",
    "- Picking two random crossover points\n",
    "\n",
    "- Copying a slice from Parent 1\n",
    "\n",
    "- Filling in the rest from Parent 2 in order, skipping duplicates"
   ]
  },
  {
   "cell_type": "code",
   "execution_count": 55,
   "id": "7c3d5166",
   "metadata": {},
   "outputs": [
    {
     "name": "stdout",
     "output_type": "stream",
     "text": [
      "[4, 3, 4, 1, 2, 1, 3, 2, 1, 3, 2, 1, 4, 4, 3, 2]\n",
      "Fitness: 5900\n",
      "----------SEATING ARRANGEMENTS----------\n",
      "Table 1: [ 4,  6,  9, 12]\n",
      "Table 2: [ 5,  8, 11, 16]\n",
      "Table 3: [ 2,  7, 10, 15]\n",
      "Table 4: [ 1,  3, 13, 14]\n",
      "----------------------------------------\n",
      "----------\n",
      "[3, 2, 2, 2, 1, 1, 3, 4, 4, 3, 2, 1, 1, 4, 4, 3]\n",
      "Fitness: 7600\n",
      "----------SEATING ARRANGEMENTS----------\n",
      "Table 1: [ 5,  6, 12, 13]\n",
      "Table 2: [ 2,  3,  4, 11]\n",
      "Table 3: [ 1,  7, 10, 16]\n",
      "Table 4: [ 8,  9, 14, 15]\n",
      "----------------------------------------\n"
     ]
    }
   ],
   "source": [
    "repr_4 = Wedding_Solution(tables=tables, attendees=attendees)\n",
    "print(repr_4)\n",
    "print(\"Fitness: \" + str(repr_4.fitness()))\n",
    "repr_4.pretty_print()\n",
    "print(\"----------\")\n",
    "repr_5 = Wedding_Solution(tables=tables, attendees=attendees)\n",
    "print(repr_5)\n",
    "print(\"Fitness: \" + str(repr_5.fitness()))\n",
    "repr_5.pretty_print()"
   ]
  },
  {
   "cell_type": "code",
   "execution_count": null,
   "id": "a5ea2815",
   "metadata": {},
   "outputs": [],
   "source": [
    "def order_crossover(parent1_repr, parent2_repr):\n",
    "    # seats_per_table = parent1_repr.count(1)\n",
    "    attendee_length = len(parent1_repr)\n",
    "\n",
    "    # limit the number of people that can be shuffled to at max 10\n",
    "    if attendee_length < 10:\n",
    "        limit = int(attendee_length / 2)\n",
    "    else:\n",
    "        limit = 10\n",
    "\n",
    "    # choose a random number of people to get a subset\n",
    "    numOfPeople = randint(2, limit) # cant invert 1 person, nothing would change - limiting to 10 indivs for less disruption\n",
    "\n",
    "    startPerson = randint(0, attendee_length-numOfPeople) # set the biggest number it can randomly choose as the total - the number aimed to shuffle\n",
    "    stopPerson = startPerson + numOfPeople\n",
    "\n",
    "    print(\"Number to keep: \", numOfPeople)\n",
    "    print(\"Range to keep: \" + str(startPerson) + \" - \" + str(stopPerson))\n",
    "    print(\"------------\")\n",
    "    parent1_repr_substring = parent1_repr[startPerson:stopPerson]\n",
    "    parent2_repr_substring = parent2_repr[startPerson:stopPerson]\n",
    "    print(\"Substring 1: \" + str(parent1_repr_substring))\n",
    "    print(\"Substring 2: \" + str(parent2_repr_substring))\n",
    "    print(\"------------\")\n",
    "    offspring1_repr, offspring2_repr = [-1] * attendee_length, [-1] * attendee_length\n",
    "    offspring1_repr[startPerson:stopPerson] = parent1_repr_substring\n",
    "    offspring2_repr[startPerson:stopPerson] = parent2_repr_substring\n",
    "\n",
    "    parent1_remaining = deepcopy(parent1_repr)\n",
    "    parent2_remaining = deepcopy(parent2_repr)\n",
    "\n",
    "    parent1_remaining.reverse()\n",
    "    for value in parent2_repr_substring:\n",
    "        parent1_remaining.remove(value)\n",
    "    parent1_remaining.reverse()\n",
    "\n",
    "    parent2_remaining.reverse()\n",
    "    for value in parent1_repr_substring:\n",
    "        parent2_remaining.remove(value)\n",
    "    parent2_remaining.reverse()\n",
    "\n",
    "    print(\"Remaining 1: \" + str(parent1_remaining))\n",
    "    print(\"Remaining 2: \" + str(parent2_remaining))\n",
    "\n",
    "    print(\"------------\")\n",
    "    offspring_idx = 0\n",
    "    substring_idx = 0\n",
    "    while offspring_idx < attendee_length:\n",
    "        if offspring_idx == startPerson:\n",
    "            offspring_idx += len(parent1_repr_substring)\n",
    "\n",
    "        offspring1_repr[offspring_idx] = parent2_remaining[substring_idx]\n",
    "        offspring2_repr[offspring_idx] = parent1_remaining[substring_idx]\n",
    "        print(\"IDX: [\" + str(offspring_idx) + \"] - \" + str(offspring1_repr))\n",
    "\n",
    "        offspring_idx += 1\n",
    "        substring_idx += 1\n",
    "\n",
    "    return offspring1_repr, offspring2_repr"
   ]
  },
  {
   "cell_type": "code",
   "execution_count": 77,
   "id": "fdb9a52b",
   "metadata": {},
   "outputs": [
    {
     "name": "stdout",
     "output_type": "stream",
     "text": [
      "Number to keep:  7\n",
      "Range to keep: 3 - 10\n",
      "------------\n",
      "Substring 1: [4, 4, 1, 2, 3, 1, 2]\n",
      "Substring 2: [2, 4, 2, 4, 2, 1, 3]\n",
      "------------\n",
      "Remaining 1: [2, 3, 3, 4, 4, 1, 3, 1, 1]\n",
      "Remaining 2: [1, 1, 2, 4, 2, 4, 3, 3, 3]\n",
      "------------\n",
      "IDX: [0] - [1, -1, -1, 4, 4, 1, 2, 3, 1, 2, -1, -1, -1, -1, -1, -1]\n",
      "IDX: [1] - [1, 1, -1, 4, 4, 1, 2, 3, 1, 2, -1, -1, -1, -1, -1, -1]\n",
      "IDX: [2] - [1, 1, 2, 4, 4, 1, 2, 3, 1, 2, -1, -1, -1, -1, -1, -1]\n",
      "Length of substring: 7 and idx: 10\n",
      "IDX: [10] - [1, 1, 2, 4, 4, 1, 2, 3, 1, 2, 4, -1, -1, -1, -1, -1]\n",
      "IDX: [11] - [1, 1, 2, 4, 4, 1, 2, 3, 1, 2, 4, 2, -1, -1, -1, -1]\n",
      "IDX: [12] - [1, 1, 2, 4, 4, 1, 2, 3, 1, 2, 4, 2, 4, -1, -1, -1]\n",
      "IDX: [13] - [1, 1, 2, 4, 4, 1, 2, 3, 1, 2, 4, 2, 4, 3, -1, -1]\n",
      "IDX: [14] - [1, 1, 2, 4, 4, 1, 2, 3, 1, 2, 4, 2, 4, 3, 3, -1]\n",
      "IDX: [15] - [1, 1, 2, 4, 4, 1, 2, 3, 1, 2, 4, 2, 4, 3, 3, 3]\n",
      "[2, 3, 3, 4, 4, 1, 2, 3, 1, 2, 2, 3, 4, 1, 1, 4]\n",
      "[1, 1, 1, 2, 4, 2, 4, 2, 1, 3, 3, 2, 4, 3, 3, 4]\n",
      "-------\n",
      "[1, 1, 2, 4, 4, 1, 2, 3, 1, 2, 4, 2, 4, 3, 3, 3]\n",
      "[2, 3, 3, 2, 4, 2, 4, 2, 1, 3, 4, 4, 1, 3, 1, 1]\n"
     ]
    }
   ],
   "source": [
    "order_repr = order_crossover(repr_2.repr, repr_3.repr)\n",
    "# print(inversion_repr)\n",
    "print(repr_2.repr)\n",
    "print(repr_3.repr)\n",
    "print(\"-------\")\n",
    "print(order_repr[0])\n",
    "print(order_repr[1])"
   ]
  },
  {
   "cell_type": "markdown",
   "id": "e78a9b2f",
   "metadata": {},
   "source": [
    "# FINISH FOR LATER\n",
    "[2, 3, 3, 4, 4, 1, 2, 3, 1, 2, 2, 3, 4, 1, 1, 4] <- parent 1\n",
    "[1, 1, 1, 2, 4, 2, 4, 2, 1, 3, 3, 2, 4, 3, 3, 4] <- parent 2\n",
    "\n",
    "[4, 4, 1, 2, 3, 1, 2] < will copy from parent 1 to child 1\n",
    "\n",
    "[1, 1, 1, 2, 4, 2, 4, 2, 1, 3, 3, 2, 4, 3, 3, 4] <- parent 2\n",
    "[1, 1, _, 2, 4, 2, 4, _, _, 3, 3, _, _, 3, _, _] <- parent 2\n",
    "\n",
    "[1, 1, 2,                      4, 2, 4, 3, 3, 3] \n",
    "[_, _, _, 4, 4, 1, 2, 3, 1, 2, _, _, _, _, _, _] < - offspring 1\n"
   ]
  },
  {
   "cell_type": "code",
   "execution_count": 80,
   "id": "436ee433",
   "metadata": {},
   "outputs": [
    {
     "name": "stdout",
     "output_type": "stream",
     "text": [
      "----------SEATING ARRANGEMENTS----------\n",
      "Table 1: [ 1,  2,  6,  9]\n",
      "Table 2: [ 3,  7, 10, 12]\n",
      "Table 3: [ 8, 14, 15, 16]\n",
      "Table 4: [ 4,  5, 11, 13]\n",
      "----------------------------------------\n"
     ]
    }
   ],
   "source": [
    "order1 = Wedding_Solution(repr=order_repr[0], tables=tables, attendees=attendees)\n",
    "order1.pretty_print()"
   ]
  },
  {
   "cell_type": "code",
   "execution_count": 81,
   "id": "0b89bb88",
   "metadata": {},
   "outputs": [
    {
     "name": "stdout",
     "output_type": "stream",
     "text": [
      "----------SEATING ARRANGEMENTS----------\n",
      "Table 1: [ 9, 13, 15, 16]\n",
      "Table 2: [ 1,  4,  6,  8]\n",
      "Table 3: [ 2,  3, 10, 14]\n",
      "Table 4: [ 5,  7, 11, 12]\n",
      "----------------------------------------\n"
     ]
    }
   ],
   "source": [
    "order2 = Wedding_Solution(repr=order_repr[1], tables=tables, attendees=attendees)\n",
    "order2.pretty_print()"
   ]
  }
 ],
 "metadata": {
  "kernelspec": {
   "display_name": "base",
   "language": "python",
   "name": "python3"
  },
  "language_info": {
   "codemirror_mode": {
    "name": "ipython",
    "version": 3
   },
   "file_extension": ".py",
   "mimetype": "text/x-python",
   "name": "python",
   "nbconvert_exporter": "python",
   "pygments_lexer": "ipython3",
   "version": "3.12.2"
  }
 },
 "nbformat": 4,
 "nbformat_minor": 5
}
