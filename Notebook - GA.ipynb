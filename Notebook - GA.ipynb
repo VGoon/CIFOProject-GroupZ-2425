{
 "cells": [
  {
   "cell_type": "code",
   "execution_count": 1,
   "id": "91188268",
   "metadata": {},
   "outputs": [],
   "source": [
    "import pandas as pd\n",
    "\n",
    "# Show all rows and columns\n",
    "pd.set_option('display.max_rows', None)\n",
    "pd.set_option('display.max_columns', None)\n",
    "\n",
    "# If needed, also expand the width\n",
    "pd.set_option('display.width', None)\n",
    "pd.set_option('display.max_colwidth', None)  # or a large int\n",
    "\n",
    "from copy import deepcopy\n",
    "from random import randint, choice\n",
    "import random\n",
    "import numpy as np\n",
    "\n",
    "# Import Wedding_Solution and Wedding_GA_Solution classes\n",
    "from library.wedding_solution import Wedding_Solution\n",
    "from library.wedding_ga_solution import WeddingGASolution\n",
    "\n",
    "# Import required for the selection, crossover, and mutation functions going to be uses in the GAs algorithms\n",
    "from library.algorithms.genetic_algorithms.selection import fitness_proportionate_selection, ranking_selection, tournament_selection\n",
    "from library.algorithms.genetic_algorithms.crossover import cycle_crossover, order_crossover\n",
    "from library.algorithms.genetic_algorithms.mutation import greedy_swap_mutation, scramble_mutation, inversion_mutation, tableswap_mutation\n",
    "\n",
    "# Import algorithm required to run the genetic algorithm\n",
    "from library.algorithms.genetic_algorithms.genetic_algorithm import genetic_algorithm\n",
    "\n",
    "# import the required function to run the different trials\n",
    "from library.algorithms.hc_sa.run_trials_avg_fitness_per_iteration import run_trials_avg_fitness_per_iteration"
   ]
  },
  {
   "cell_type": "markdown",
   "id": "d42271b0",
   "metadata": {},
   "source": [
    "## 1. Usage of the Wedding_Solution class"
   ]
  },
  {
   "cell_type": "markdown",
   "id": "5c16a9ef",
   "metadata": {},
   "source": [
    "### 1.1 Demonstrating that the class works for any number of tables and guests — assuming guests can be evenly divided across tables"
   ]
  },
  {
   "cell_type": "code",
   "execution_count": 6,
   "id": "75902d97",
   "metadata": {},
   "outputs": [
    {
     "name": "stdout",
     "output_type": "stream",
     "text": [
      "ASSIGNED INITIALIZATION: \n",
      "Repr:  [1, 3, 1, 1, 4, 2, 4, 4, 3, 3, 2, 2]\n",
      "Seats per table:  3\n",
      "Fitness:  7000\n",
      "\n",
      "RANDOM INITIALIZATION: \n",
      "Repr:  [2, 2, 3, 3, 3, 4, 4, 1, 4, 1, 1, 2]\n",
      "Seats per table:  3\n",
      "Fitness:  8700\n"
     ]
    }
   ],
   "source": [
    "# Example usage of the Wedding_Solution class\n",
    "tables = 4\n",
    "attendees = 12\n",
    "initial_solution = [1, 3, 1, 1, 4, 2, 4, 4, 3, 3, 2, 2]\n",
    "repr_initial_solution = Wedding_Solution(repr=initial_solution, tables=tables, attendees=attendees)\n",
    "print(\"ASSIGNED INITIALIZATION: \")\n",
    "print(\"Repr: \", repr_initial_solution)\n",
    "print(\"Seats per table: \", repr_initial_solution.seats_per_table)\n",
    "print(\"Fitness: \", repr_initial_solution.fitness())\n",
    "\n",
    "print(\"\\nRANDOM INITIALIZATION: \")\n",
    "repr = Wedding_Solution(tables=tables, attendees=attendees)\n",
    "print(\"Repr: \", repr)\n",
    "print(\"Seats per table: \", repr.seats_per_table)\n",
    "print(\"Fitness: \", repr.fitness())"
   ]
  },
  {
   "cell_type": "markdown",
   "id": "ea00e6ca",
   "metadata": {},
   "source": [
    "### 1.2 Usage of the class for the problem at hand with 8 tables and 64 attendees"
   ]
  },
  {
   "cell_type": "code",
   "execution_count": 7,
   "id": "e948d6de",
   "metadata": {},
   "outputs": [
    {
     "name": "stdout",
     "output_type": "stream",
     "text": [
      "[5, 6, 2, 2, 1, 8, 6, 2, 8, 5, 3, 4, 6, 8, 3, 4, 8, 6, 3, 7, 8, 1, 8, 7, 2, 8, 7, 6, 2, 3, 1, 5, 5, 3, 7, 3, 7, 4, 7, 7, 5, 1, 1, 5, 7, 6, 3, 2, 4, 1, 1, 6, 6, 3, 2, 5, 5, 8, 4, 2, 4, 1, 4, 4]\n",
      "----------SEATING ARRANGEMENTS----------\n",
      "Table 1: [ 5, 22, 31, 42, 43, 50, 51, 62]\n",
      "Table 2: [ 3,  4,  8, 25, 29, 48, 55, 60]\n",
      "Table 3: [11, 15, 19, 30, 34, 36, 47, 54]\n",
      "Table 4: [12, 16, 38, 49, 59, 61, 63, 64]\n",
      "Table 5: [ 1, 10, 32, 33, 41, 44, 56, 57]\n",
      "Table 6: [ 2,  7, 13, 18, 28, 46, 52, 53]\n",
      "Table 7: [20, 24, 27, 35, 37, 39, 40, 45]\n",
      "Table 8: [ 6,  9, 14, 17, 21, 23, 26, 58]\n",
      "----------------------------------------\n"
     ]
    }
   ],
   "source": [
    "repr = Wedding_Solution()\n",
    "print(repr)\n",
    "repr.pretty_print()"
   ]
  },
  {
   "cell_type": "markdown",
   "id": "89b7dd28",
   "metadata": {},
   "source": [
    "## 2. Selection Algorithms\n",
    "\n",
    "- Fitness Proportionate Selection <span style=\"color:red\">(from class)</span>\n",
    "- Ranking\n",
    "- Tournament"
   ]
  },
  {
   "cell_type": "markdown",
   "id": "9fc55831",
   "metadata": {},
   "source": [
    "### 2.1 Ranking Selection\n",
    "\n",
    "`Ranking Selection — Summary (Vanneschi et al.)`\n",
    "\n",
    "Ranking selection is a selection method where individuals are chosen based on their **rank** in the population, not their raw fitness value.\n",
    "\n",
    "`Main Idea`:\n",
    "1. Individuals are sorted by fitness (from **worst** to **best**).\n",
    "2. A selection probability is assigned based on the individual's **rank position**, using a monotonic function φ (e.g., linear, exponential).\n",
    "3. This makes selection **robust to outliers** or large differences in fitness.\n",
    "\n",
    "`Steps to Perform Ranking Selection`:\n",
    "1. **Sort individuals** by fitness (worst to best).\n",
    "2. **Assign ranks**: The worst gets rank 1, the best gets rank *n* (population size).\n",
    "3. **Apply a ranking function** φ(rank), usually linear:\n",
    "   - Example: Use the rank directly as weight.\n",
    "4. **Compute probabilities**:\n",
    "   - For each individual, use:  \n",
    "     \\[\n",
    "     P(\\text{select } i) = \\frac{\\phi(\\text{rank}_i)}{\\sum_{j=1}^{n} \\phi(\\text{rank}_j)}\n",
    "     \\]\n",
    "5. **Sample** individuals using the computed probabilities.\n",
    "\n",
    "`Important notes`:\n",
    "- Unlike **fitness proportionate selection**, **ranking selection is not affected** by the magnitude of fitness values — only their ordering matters.\n",
    "- If fitness values change but ranks stay the same, the probabilities remain unchanged.\n",
    "- As emphasized by *Vanneschi et al.*, this stabilizes selection pressure and avoids dominance by outlier individuals.\n",
    "\n",
    " `When should we apply it`\n",
    "- Useful when fitness values vary widely or are noisy.\n",
    "- Ensures diversity by preventing premature convergence.\n",
    "\n",
    "\n"
   ]
  },
  {
   "cell_type": "markdown",
   "id": "8379df48",
   "metadata": {},
   "source": [
    "#### 2.1.1 Exemplifying usage of the Ranking Selection  "
   ]
  },
  {
   "cell_type": "code",
   "execution_count": 8,
   "id": "7222cd5c",
   "metadata": {},
   "outputs": [
    {
     "name": "stdout",
     "output_type": "stream",
     "text": [
      "[5900, 9300, 15800, 14400, 13900, 8300, 11400, 16400, 15800]\n",
      "--------\n",
      "----------SEATING ARRANGEMENTS----------\n",
      "Table 1: [10, 15, 19, 32, 55, 56, 59, 62]\n",
      "Table 2: [ 6, 29, 46, 47, 49, 50, 57, 63]\n",
      "Table 3: [14, 23, 24, 31, 35, 45, 51, 64]\n",
      "Table 4: [ 7, 21, 25, 38, 41, 42, 43, 52]\n",
      "Table 5: [ 3,  5, 11, 20, 22, 30, 53, 60]\n",
      "Table 6: [ 1,  9, 16, 26, 34, 37, 54, 58]\n",
      "Table 7: [ 8, 13, 17, 18, 36, 40, 48, 61]\n",
      "Table 8: [ 2,  4, 12, 27, 28, 33, 39, 44]\n",
      "----------------------------------------\n"
     ]
    }
   ],
   "source": [
    "population = []\n",
    "fitness_list = []\n",
    "# Defining an initial population of 10 Wedding_Solution objects\n",
    "for _ in range(1, 10):\n",
    "    x = Wedding_Solution()\n",
    "    population.append(x)\n",
    "    fitness_list.append(x.fitness())\n",
    "\n",
    "print(fitness_list)\n",
    "print(\"--------\")\n",
    "# Determining the P' population based on the ranking selection algorithm\n",
    "selected = ranking_selection(population=population, maximization=True)"
   ]
  },
  {
   "cell_type": "markdown",
   "id": "75311177",
   "metadata": {},
   "source": [
    "### 2.2 Tournament Selection\n",
    "\n",
    "`Summary (Vanneschi et al.)`\n",
    "\n",
    "Tournament Selection is a selection mechanism in Genetic Algorithms that balances **randomness** and **fitness-based selection** by conducting \"tournaments\" among randomly chosen individuals.\n",
    "\n",
    "\n",
    "`Steps`:\n",
    "1. **Choose `k` individuals** randomly from the population (with uniform probability).\n",
    "2. **Evaluate the fitness** of these `k` individuals.\n",
    "3. **Select the best individual** among the `k` (highest fitness if maximizing).\n",
    "4. **Repeat** steps 1–3 each time a new parent is needed.\n",
    "\n",
    "`Important Concepts`:\n",
    "- `k` is called the **tournament size**.\n",
    "- **Selection pressure** is controlled by `k`:\n",
    "  - Small `k` → lower selection pressure → more diversity.\n",
    "  - Large `k` → higher selection pressure → favors best individuals more often.\n",
    "- With replacement: individuals can appear multiple times in a tournament, ensuring even the worst individual has a **non-zero** chance of being selected.\n",
    "- Each tournament is **independent**, requiring a fresh random sample every time.\n",
    "\n",
    "`Why should we apply it?`\n",
    "- **Efficiency**: Only evaluates `k` individuals, not the whole population (unless elitism is used).\n",
    "- **Tunable pressure**: Easily adjust the strength of selection by changing `k`.\n",
    "- Unlike fitness proportionate selection (where pressure is fixed), or ranking selection (where tuning involves modifying a function φ), tournament selection **simplifies control** over selection behavior.\n",
    "\n",
    "> This approach aligns with all three principles of a good selection mechanism as defined in *Vanneschi et al.*:\n",
    "> 1. Includes randomness.\n",
    "> 2. Considers fitness.\n",
    "> 3. Gives all individuals a non-zero probability of selection.\n"
   ]
  },
  {
   "cell_type": "markdown",
   "id": "d991a8be",
   "metadata": {},
   "source": [
    "#### 2.2.1 Exemplifying usage of the Tornament Selection  "
   ]
  },
  {
   "cell_type": "code",
   "execution_count": 9,
   "id": "b9b4abcf",
   "metadata": {},
   "outputs": [
    {
     "name": "stdout",
     "output_type": "stream",
     "text": [
      "[13600, 15900, 12200, 8400, 16600, 11000, 13500, 12800, 9900]\n",
      "--------\n",
      "----------SEATING ARRANGEMENTS----------\n",
      "Table 1: [20, 25, 30, 33, 42, 46, 49, 51]\n",
      "Table 2: [ 4, 10, 16, 21, 29, 32, 40, 52]\n",
      "Table 3: [17, 22, 24, 26, 28, 45, 53, 55]\n",
      "Table 4: [ 1,  6, 19, 31, 34, 47, 58, 60]\n",
      "Table 5: [ 5, 23, 41, 43, 48, 50, 56, 63]\n",
      "Table 6: [ 2,  8, 35, 37, 54, 59, 61, 62]\n",
      "Table 7: [ 7,  9, 14, 18, 38, 44, 57, 64]\n",
      "Table 8: [ 3, 11, 12, 13, 15, 27, 36, 39]\n",
      "----------------------------------------\n"
     ]
    }
   ],
   "source": [
    "population = []\n",
    "fitness_list = []\n",
    "\n",
    "# Defining an initial population of 9 Wedding_Solution objects\n",
    "for _ in range(1, 10):\n",
    "    x = Wedding_Solution()\n",
    "    population.append(x)\n",
    "    fitness_list.append(x.fitness())\n",
    "\n",
    "print(fitness_list)\n",
    "print(\"--------\")\n",
    "\n",
    "# Determining the P' population based on the tornament selection algorithm\n",
    "selected = tournament_selection(population=population, maximization=True)"
   ]
  },
  {
   "cell_type": "code",
   "execution_count": 10,
   "id": "e0422208",
   "metadata": {},
   "outputs": [],
   "source": [
    "##jfjfjfjfjfj "
   ]
  },
  {
   "cell_type": "markdown",
   "id": "1d2409ff",
   "metadata": {},
   "source": [
    "## 3. Mutation\n",
    "\n",
    "- swap mutation <span style=\"color:red\">(from class)</span> <span style=\"color:orange\">(check if greedy is different enough to use)</span> \n",
    "- scramble mutation\n",
    "- inversion mutation <span style=\"color:red\">(from class)</span>\n",
    "- tableswap mutation"
   ]
  },
  {
   "cell_type": "markdown",
   "id": "5f192d6e",
   "metadata": {},
   "source": [
    "### 3.1 Greedy Swap Mutation\n",
    "\n",
    "\n",
    "`Standard Swap Mutation: Summary`\n",
    "\n",
    "Swap mutation is a general-purpose mutation operator commonly used with string or list-based representations. It introduces variability in the solution by swapping the values of two positions (genes) within the representation.\n",
    "\n",
    "`Standard Swap Mutation: How it Works`\n",
    "The standard version of swap mutation proceeds with the following steps:\n",
    "\n",
    "1. **Mutation Probability Check**: With a certain mutation probability `mut_prob`, decide whether to mutate the solution.\n",
    "2. **Select Two Genes**: Randomly pick two positions (`i` and `j`) in the list-based representation.\n",
    "3. **Swap Values**: Exchange the values at these two positions to produce a new individual.\n",
    "4. **Return the Mutated Representation**.\n",
    "\n",
    "This operator introduces small, local changes while maintaining a valid representation structure.\n",
    "\n",
    "---\n",
    "\n",
    "`Greedy Swap Mutation: Summary`\n",
    "\n",
    "The **greedy_swap_mutation** improves upon the standard method by making the swap *intelligent* based on relationship values defined in a fitness grid. Instead of choosing genes entirely at random, it prioritizes swaps that are **more likely to improve solution fitness**.\n",
    "\n",
    "`Greedy Swap Mutation – Steps`\n",
    "\n",
    "1. **Mutation Probability Check**:\n",
    "   - With probability `mut_prob`, perform the mutation. Otherwise, return the unchanged representation.\n",
    "\n",
    "2. **Select a Random Person A**:\n",
    "   - Choose `randomPersonA` and identify the table they're currently seated at (`randomTableA`).\n",
    "\n",
    "3. **Identify Valuable Relationships**:\n",
    "   - Look up which guests have a **positive relationship** with `randomPersonA` using the fitness grid.\n",
    "   - Sort these guests by value (descending) to prioritize better pairings.\n",
    "\n",
    "4. **Select Person B**:\n",
    "   - From the positively valued guests, find one (`randomPersonB`) who sits at a **different table** than `Person A`.\n",
    "   - If no such person is found, randomly select one from another table.\n",
    "\n",
    "5. **Pick Another Guest C from Table A**:\n",
    "   - Randomly choose another guest `Person C` from `randomTableA` (excluding `Person A`) to participate in the swap.\n",
    "\n",
    "6. **Perform the Swap**:\n",
    "   - Swap `Person B` and `Person C` across tables, creating a new arrangement.\n",
    "\n",
    "7. **Return the New Representation**.\n",
    "\n",
    "---\n",
    "\n",
    "`What Makes It Greedy?`\n",
    "\n",
    "- Instead of choosing random guests to swap, this mutation:\n",
    "  - Focuses on guests with **high positive relationship values**.\n",
    "  - Prefers to move those with strong relational significance to better table contexts.\n",
    "- The sorting of `peopleWithRelationship` in descending order ensures that higher-value swaps are attempted first.\n",
    "\n",
    "---\n",
    "\n",
    "`Benefits of Greedy Swap Mutation`\n",
    "\n",
    "- Increases the **likelihood of fitness improvement** during mutation.\n",
    "- Maintains diversity while adding **informed local search behavior**.\n",
    "- Balances randomness (via `mut_prob`) with intelligent restructuring.\n",
    "\n",
    "This approach blends **exploration** (random elements) with **exploitation** (relationship-based guidance), which is key in effective evolutionary algorithms.\n"
   ]
  },
  {
   "cell_type": "markdown",
   "id": "03076b83",
   "metadata": {},
   "source": [
    "#### 3.1.1 Exemplifying usage of the Greedy Swap Mutation"
   ]
  },
  {
   "cell_type": "code",
   "execution_count": null,
   "id": "151fde75",
   "metadata": {},
   "outputs": [
    {
     "name": "stdout",
     "output_type": "stream",
     "text": [
      "Swapped: [5, 6, 2, 2, 1, 8, 6, 2, 8, 5, 3, 4, 6, 8, 3, 4, 8, 6, 3, 7, 8, 1, 8, 3, 2, 8, 7, 6, 2, 3, 1, 5, 5, 3, 7, 7, 7, 4, 7, 7, 5, 1, 1, 5, 7, 6, 3, 2, 4, 1, 1, 6, 6, 3, 2, 5, 5, 8, 4, 2, 4, 1, 4, 4] Fitness: 16200\n",
      "Original: [5, 6, 2, 2, 1, 8, 6, 2, 8, 5, 3, 4, 6, 8, 3, 4, 8, 6, 3, 7, 8, 1, 8, 7, 2, 8, 7, 6, 2, 3, 1, 5, 5, 3, 7, 3, 7, 4, 7, 7, 5, 1, 1, 5, 7, 6, 3, 2, 4, 1, 1, 6, 6, 3, 2, 5, 5, 8, 4, 2, 4, 1, 4, 4] Fitness: 14200\n"
     ]
    }
   ],
   "source": [
    "# Wasn't working with old code - didn't work because it expected to receive a solution instance and not representation\n",
    "\"\"\"\n",
    "swap_repr = greedy_swap_mutation(repr.repr, repr.attendees, 1,  repr.values_grid)\n",
    "print(\"Swapped: \" + str(swap_repr.repr) + \" Fitness: \" + str(swap_repr.fitness()))\n",
    "print(\"Original: \" + str(repr.repr) + \" Fitness: \" + str(repr.fitness()))\n",
    "\"\"\"\n"
   ]
  },
  {
   "cell_type": "code",
   "execution_count": 18,
   "id": "ff70d15e",
   "metadata": {},
   "outputs": [
    {
     "name": "stdout",
     "output_type": "stream",
     "text": [
      "Swapped: [5, 6, 2, 2, 1, 8, 6, 2, 8, 5, 3, 4, 6, 8, 3, 4, 8, 6, 3, 7, 8, 1, 8, 1, 2, 8, 7, 6, 2, 3, 1, 5, 5, 3, 7, 3, 7, 4, 7, 7, 5, 1, 7, 5, 7, 6, 3, 2, 4, 1, 1, 6, 6, 3, 2, 5, 5, 8, 4, 2, 4, 1, 4, 4] Fitness: 14900\n",
      "Original: [5, 6, 2, 2, 1, 8, 6, 2, 8, 5, 3, 4, 6, 8, 3, 4, 8, 6, 3, 7, 8, 1, 8, 7, 2, 8, 7, 6, 2, 3, 1, 5, 5, 3, 7, 3, 7, 4, 7, 7, 5, 1, 1, 5, 7, 6, 3, 2, 4, 1, 1, 6, 6, 3, 2, 5, 5, 8, 4, 2, 4, 1, 4, 4] Fitness: 14200\n"
     ]
    }
   ],
   "source": [
    "new_repr = greedy_swap_mutation(repr.repr, 1, repr.values_grid)\n",
    "swap_solution = Wedding_Solution(repr=new_repr)\n",
    "print(\"Swapped: \" + str(swap_solution.repr) + \" Fitness: \" + str(swap_solution.fitness()))\n",
    "print(\"Original: \" + str(repr.repr) + \" Fitness: \" + str(repr.fitness()))"
   ]
  },
  {
   "cell_type": "markdown",
   "id": "cb1d6a87",
   "metadata": {},
   "source": [
    "### 3.2 Scramble Mutation"
   ]
  },
  {
   "cell_type": "markdown",
   "id": "49d0c18f",
   "metadata": {},
   "source": [
    "`Scramble Mutation — Summary (Soni et al., 2014)`\n",
    "\n",
    "Scramble mutation is a general-purpose mutation operator used with **permutation-based encodings**, such as seating arrangements or TSP tours. It introduces diversity by **randomly reordering** a selected subset of genes (individual positions) in a solution.\n",
    "\n",
    "`Steps`:\n",
    "1. **Mutation Probability Check**:\n",
    "   - With probability `mut_prob`, perform the mutation. Otherwise, return the solution unchanged.\n",
    "\n",
    "2. **Select a Subset of Genes**:\n",
    "   - Choose a random starting index and define a range of contiguous genes (up to a maximum length) to be scrambled.\n",
    "\n",
    "3. **Shuffle the Subset**:\n",
    "   - Randomly rearrange the selected genes using a uniform shuffle.\n",
    "\n",
    "4. **Replace the Original Subset**:\n",
    "   - Insert the shuffled subset back into the original representation at the same positions.\n",
    "\n",
    "5. **Return the New Representation**.\n",
    "\n",
    "`Key Features`:\n",
    "- The operation preserves the overall set of values, maintaining the validity of the permutation.\n",
    "- The **disruption is localized**, making it a good balance between exploration and structure preservation.\n",
    "- Although the literature (Soni et al., 2014) allows for non-contiguous subsets, a contiguous range is commonly used in practice and simplifies implementation.\n",
    "\n",
    "`Why Use Scramble Mutation?`\n",
    "- Helps **escape local optima** by introducing moderate changes.\n",
    "- Useful in problems like the **Travelling Salesman Problem** or **wedding seating**, where order matters but must stay valid.\n",
    "- It retains feasibility while exploring alternative arrangements.\n",
    "\n",
    "> Referenced from: *Soni, N., & Kumar, T. (2014). Study of Various Mutation Operators in Genetic Algorithms. IJCSIT, 5(3), 4519–4521.*\n",
    ">\n",
    "> Source: https://www.ijcsit.com/docs/Volume%205/vol5issue03/ijcsit20140503404.pdf\n"
   ]
  },
  {
   "cell_type": "markdown",
   "id": "611c15a7",
   "metadata": {},
   "source": [
    "#### 3.2.1 Exemplifying usage of the Scramble Mutation"
   ]
  },
  {
   "cell_type": "code",
   "execution_count": 16,
   "id": "f52aa8e8",
   "metadata": {},
   "outputs": [
    {
     "data": {
      "text/plain": [
       "'\\nscramble_repr = scramble_mutation(repr.repr, repr.attendees, 1)\\nprint(\"Scrambled: \" + str(scramble_repr.repr) + \" Fitness: \" + str(scramble_repr.fitness()))\\nprint(\"Original: \" + str(repr.repr) + \" Fitness: \" + str(repr.fitness()))\\n'"
      ]
     },
     "execution_count": 16,
     "metadata": {},
     "output_type": "execute_result"
    }
   ],
   "source": [
    "# Wasn't working with old code - didn't work because it expected to receive a solution instance and not representation\n",
    "\"\"\"\n",
    "scramble_repr = scramble_mutation(repr.repr, repr.attendees, 1)\n",
    "print(\"Scrambled: \" + str(scramble_repr.repr) + \" Fitness: \" + str(scramble_repr.fitness()))\n",
    "print(\"Original: \" + str(repr.repr) + \" Fitness: \" + str(repr.fitness()))\n",
    "\"\"\""
   ]
  },
  {
   "cell_type": "code",
   "execution_count": 19,
   "id": "e1b5bd29",
   "metadata": {},
   "outputs": [
    {
     "name": "stdout",
     "output_type": "stream",
     "text": [
      "Inverted: [5, 6, 2, 2, 1, 8, 6, 2, 8, 5, 3, 4, 6, 8, 3, 4, 8, 6, 3, 7, 8, 1, 8, 7, 2, 8, 7, 6, 2, 3, 1, 5, 5, 3, 7, 3, 7, 4, 7, 7, 5, 1, 1, 5, 7, 6, 3, 2, 4, 1, 1, 6, 6, 5, 2, 5, 2, 8, 3, 4, 4, 1, 4, 4] Fitness: 15300\n",
      "Original: [5, 6, 2, 2, 1, 8, 6, 2, 8, 5, 3, 4, 6, 8, 3, 4, 8, 6, 3, 7, 8, 1, 8, 7, 2, 8, 7, 6, 2, 3, 1, 5, 5, 3, 7, 3, 7, 4, 7, 7, 5, 1, 1, 5, 7, 6, 3, 2, 4, 1, 1, 6, 6, 3, 2, 5, 5, 8, 4, 2, 4, 1, 4, 4] Fitness: 14200\n"
     ]
    }
   ],
   "source": [
    "scramble_repr = scramble_mutation(repr.repr, 1)\n",
    "scramble_solution = Wedding_Solution(repr=scramble_repr)\n",
    "\n",
    "print(\"Inverted: \" + str(scramble_solution.repr) + \" Fitness: \" + str(scramble_solution.fitness()))\n",
    "print(\"Original: \" + str(repr.repr) + \" Fitness: \" + str(repr.fitness()))"
   ]
  },
  {
   "cell_type": "markdown",
   "id": "0b480df5",
   "metadata": {},
   "source": [
    "### 3.3 Inversion Mutation\n",
    "\n",
    "\n",
    "`Inversion Mutation — Summary (Soni et al., 2014)`\n",
    "\n",
    "Inversion mutation is a classic operator used in **permutation-encoded chromosomes**, such as TSP tours or seating arrangements. It introduces diversity by **reversing the order** of a randomly selected subsequence within the solution.\n",
    "\n",
    "`Steps`:\n",
    "1. **Mutation Probability Check**:\n",
    "   - With probability `mut_prob`, perform the mutation. Otherwise, return the solution unchanged.\n",
    "\n",
    "2. **Select a Random Subsequence**:\n",
    "   - Choose two positions (start and end) in the representation to define the range for inversion.\n",
    "\n",
    "3. **Invert the Subsequence**:\n",
    "   - Reverse the order of the genes (attendees) between the two positions.\n",
    "\n",
    "4. **Replace the Original Substring**:\n",
    "   - Insert the reversed subsequence back into the representation.\n",
    "\n",
    "5. **Return the New Solution**.\n",
    "\n",
    "`Key Features`:\n",
    "- Preserves the set of individuals and their counts (valid permutation).\n",
    "- Maintains most **adjacency structure**, breaking only the two boundary links.\n",
    "- Especially useful for **exploring permutations** with minimal disruption.\n",
    "\n",
    "> As explained in Soni et al. (2014), inversion mutation works by selecting two alleles and reversing the substring between them. This operator is effective in problems where preserving partial order is beneficial.\n",
    "\n",
    "`Why Use Inversion Mutation?`\n",
    "- Balances exploration and stability.\n",
    "- Useful in optimization problems involving **ordering**, such as the **wedding seating problem**, where altering small segments may yield better arrangements without completely destroying structure.\n",
    "\n",
    "> Referenced from: *Soni, N., & Kumar, T. (2014). Study of Various Mutation Operators in Genetic Algorithms. IJCSIT, 5(3), 4519–4521.*\n",
    ">\n",
    "> Source: https://www.ijcsit.com/docs/Volume%205/vol5issue03/ijcsit20140503404.pdf\n"
   ]
  },
  {
   "cell_type": "markdown",
   "id": "4df07c2a",
   "metadata": {},
   "source": [
    "#### 3.3.1 Exemplifying usage of the Inversion Mutation"
   ]
  },
  {
   "cell_type": "code",
   "execution_count": 21,
   "id": "eb6c28bf",
   "metadata": {},
   "outputs": [
    {
     "name": "stdout",
     "output_type": "stream",
     "text": [
      "Inverted: [5, 6, 2, 2, 1, 8, 6, 2, 8, 5, 3, 4, 6, 8, 3, 4, 8, 6, 3, 7, 2, 6, 7, 8, 2, 7, 8, 1, 8, 3, 1, 5, 5, 3, 7, 3, 7, 4, 7, 7, 5, 1, 1, 5, 7, 6, 3, 2, 4, 1, 1, 6, 6, 3, 2, 5, 5, 8, 4, 2, 4, 1, 4, 4] Fitness: 15300\n",
      "Original: [5, 6, 2, 2, 1, 8, 6, 2, 8, 5, 3, 4, 6, 8, 3, 4, 8, 6, 3, 7, 8, 1, 8, 7, 2, 8, 7, 6, 2, 3, 1, 5, 5, 3, 7, 3, 7, 4, 7, 7, 5, 1, 1, 5, 7, 6, 3, 2, 4, 1, 1, 6, 6, 3, 2, 5, 5, 8, 4, 2, 4, 1, 4, 4] Fitness: 14200\n"
     ]
    }
   ],
   "source": [
    "inverted_repr = inversion_mutation(repr.repr, 1)\n",
    "inverted_solution = Wedding_Solution(repr=inverted_repr)\n",
    "\n",
    "print(\"Inverted: \" + str(inverted_solution.repr) + \" Fitness: \" + str(inverted_solution.fitness()))\n",
    "print(\"Original: \" + str(repr.repr) + \" Fitness: \" + str(repr.fitness()))"
   ]
  },
  {
   "cell_type": "markdown",
   "id": "c1be5b34",
   "metadata": {},
   "source": [
    "### 3.4 TableSwap Mutation\n",
    "\n",
    "`Summary`:\n",
    "\n",
    "Corresponds to a **custom problem-specific mutation** operator designed for the wedding seating optimization problem. It aims to introduce diversity by selecting **one individual per table** and **shuffling their table assignments**. Unlike classical mutation operators, this mutation preserves table balance while promoting cross-table variation in a structured and low-disruption way.\n",
    "\n",
    "\n",
    "`Steps`:\n",
    "\n",
    "1. **Mutation Probability Check**:\n",
    "   - With probability `mut_prob`, apply the mutation.\n",
    "   - If not chosen, return the representation unchanged.\n",
    "\n",
    "2. **Determine Number of Tables**:\n",
    "   - Identify the number of unique tables in the representation.\n",
    "\n",
    "3. **Select One Guest per Table**:\n",
    "   - For each table, randomly choose one individual seated at that table.\n",
    "   - Store these selected individuals in a list (`peopleToSwap`).\n",
    "\n",
    "4. **Shuffle Table Assignments**:\n",
    "   - Randomly shuffle the selected individuals' table assignments.\n",
    "   - Ensure that the shuffled result differs from the original (to avoid no-ops).\n",
    "\n",
    "5. **Reassign Guests to New Tables**:\n",
    "   - For each selected individual, reassign them to the table corresponding to their new position in the shuffled list.\n",
    "\n",
    "6. **Return the Mutated Representation**:\n",
    "   - Output the modified solution where only the selected individuals changed tables.\n",
    "\n",
    "\n",
    "\n",
    "`Key Features`:\n",
    "\n",
    "- Preserves **table capacity balance** (one guest moved from each table).\n",
    "- Introduces **cross-table diversity** without major disruption to overall layout.\n",
    "- **Domain-specific**: tailored to problems where partitions (e.g., tables) must remain balanced.\n",
    "- Offers a **structured alternative** to more disruptive mutations like scramble or inversion.\n",
    "\n",
    "\n",
    "` Why Use TableSwap Mutation?`\n",
    "\n",
    "- Ensures **valid configurations** by design.\n",
    "- Useful for promoting gradual exploration across tables.\n",
    "- Balances **exploration** and **stability**, making it ideal for real-world constraints like seating plans.\n",
    "\n"
   ]
  },
  {
   "cell_type": "markdown",
   "id": "97c60f92",
   "metadata": {},
   "source": [
    "#### 3.4.1 Exemplifying usage of the TableSwap Mutation"
   ]
  },
  {
   "cell_type": "code",
   "execution_count": null,
   "id": "65c987a7",
   "metadata": {},
   "outputs": [
    {
     "name": "stdout",
     "output_type": "stream",
     "text": [
      "[4, 6, 1, 4, 3, 8, 5, 2, 5, 8, 1, 7, 5, 6, 5, 2, 6, 7, 1, 3, 8, 8, 4, 8, 7, 8, 6, 6, 2, 2, 4, 1, 3, 3, 4, 5, 6, 2, 3, 5, 1, 7, 2, 4, 2, 1, 2, 8, 6, 3, 1, 4, 5, 5, 7, 3, 3, 6, 8, 7, 7, 7, 1, 4]\n",
      "Fitness: 10000\n",
      "----------SEATING ARRANGEMENTS----------\n",
      "Table 1: [ 3, 11, 19, 32, 41, 46, 51, 63]\n",
      "Table 2: [ 8, 16, 29, 30, 38, 43, 45, 47]\n",
      "Table 3: [ 5, 20, 33, 34, 39, 50, 56, 57]\n",
      "Table 4: [ 1,  4, 23, 31, 35, 44, 52, 64]\n",
      "Table 5: [ 7,  9, 13, 15, 36, 40, 53, 54]\n",
      "Table 6: [ 2, 14, 17, 27, 28, 37, 49, 58]\n",
      "Table 7: [12, 18, 25, 42, 55, 60, 61, 62]\n",
      "Table 8: [ 6, 10, 21, 22, 24, 26, 48, 59]\n",
      "----------------------------------------\n"
     ]
    }
   ],
   "source": [
    "# Defining initial values for the tables and attendees using the Wedding_Solution class\n",
    "\n",
    "tables = 8\n",
    "attendees = 64\n",
    "repr_2 = Wedding_Solution(tables=tables, attendees=attendees)\n",
    "\n",
    "print(repr_2)\n",
    "print(\"Fitness: \" + str(repr_2.fitness()))\n",
    "repr_2.pretty_print()\n",
    "\n"
   ]
  },
  {
   "cell_type": "code",
   "execution_count": null,
   "id": "5fa09db4",
   "metadata": {},
   "outputs": [
    {
     "name": "stdout",
     "output_type": "stream",
     "text": [
      "[41, 38, 57, 31, 40, 58, 55, 59]\n",
      "[59, 57, 58, 41, 55, 31, 38, 40]\n"
     ]
    }
   ],
   "source": [
    "# Implementing the tableswap mutation\n",
    "result = tableswap_mutation(repr_2.repr, 1)"
   ]
  },
  {
   "cell_type": "code",
   "execution_count": null,
   "id": "b0951415",
   "metadata": {},
   "outputs": [
    {
     "name": "stdout",
     "output_type": "stream",
     "text": [
      "----------SEATING ARRANGEMENTS----------\n",
      "Table 1: [ 3, 11, 19, 32, 46, 51, 59, 63]\n",
      "Table 2: [ 8, 16, 29, 30, 43, 45, 47, 57]\n",
      "Table 3: [ 5, 20, 33, 34, 39, 50, 56, 58]\n",
      "Table 4: [ 1,  4, 23, 35, 41, 44, 52, 64]\n",
      "Table 5: [ 7,  9, 13, 15, 36, 53, 54, 55]\n",
      "Table 6: [ 2, 14, 17, 27, 28, 31, 37, 49]\n",
      "Table 7: [12, 18, 25, 38, 42, 60, 61, 62]\n",
      "Table 8: [ 6, 10, 21, 22, 24, 26, 40, 48]\n",
      "----------------------------------------\n"
     ]
    }
   ],
   "source": [
    "# Check the result of the tableswap mutation\n",
    "result_solution = Wedding_Solution(repr=result)\n",
    "result_solution.pretty_print()"
   ]
  },
  {
   "cell_type": "markdown",
   "id": "0d256c65",
   "metadata": {},
   "source": [
    "## 4. Crossover\n",
    "\n",
    "- <s>standard crossover</s> <span style=\"color:red\">not usable</span>\n",
    "- cycle crossover <span style=\"color:red\">(from class)</span>\n",
    "- order crossover <span style=\"color:red\">(from chatgpt)</span>"
   ]
  },
  {
   "cell_type": "code",
   "execution_count": null,
   "id": "b93df962",
   "metadata": {},
   "outputs": [],
   "source": [
    "repr_3 = Wedding_Solution(tables=tables, attendees=attendees)\n",
    "print(repr_3)\n",
    "print(\"Fitness: \" + str(repr_3.fitness()))\n",
    "repr_3.pretty_print()"
   ]
  },
  {
   "cell_type": "markdown",
   "id": "a8ff4260",
   "metadata": {},
   "source": [
    "### 4. 0 Standard Crossover\n",
    "\n",
    "> Standard Crossover can't work as the number of tables assigned have to be a certain number"
   ]
  },
  {
   "cell_type": "code",
   "execution_count": null,
   "id": "71fe4b38",
   "metadata": {},
   "outputs": [],
   "source": [
    "# def standard_crossover(parent1_repr, parent2_repr):\n",
    "\n",
    "#     crossoverPoint = randint(1, len(parent1_repr)-1) # cant be 0\n",
    "#     print(\"CrossOver Point: \" + str(crossoverPoint))\n",
    "#     child1_repr = parent1_repr[:crossoverPoint] + parent2_repr[crossoverPoint:]\n",
    "#     child2_repr = parent2_repr[:crossoverPoint] + parent1_repr[crossoverPoint:]\n",
    "\n",
    "#     print(\"Child1: \",child1_repr)\n",
    "#     print(\"Child2: \",child2_repr)\n",
    "\n",
    "#     return [Wedding_Solution(repr=child1_repr), Wedding_Solution(repr=child2_repr)]"
   ]
  },
  {
   "cell_type": "code",
   "execution_count": null,
   "id": "ee5f4a56",
   "metadata": {},
   "outputs": [],
   "source": [
    "# inversion_repr = standard_crossover(repr.repr, repr_2.repr)\n",
    "# # print(inversion_repr)\n",
    "# print(repr.repr)\n",
    "# print(repr_2.repr)\n",
    "# print(\"-------\")\n",
    "# print(inversion_repr[0].repr)\n",
    "# print(inversion_repr[1].repr)"
   ]
  },
  {
   "cell_type": "markdown",
   "id": "859f9101",
   "metadata": {},
   "source": [
    "### 4.1 Cycle Crossover – Adapted for Our Problem\n",
    "\n",
    "\n",
    "`General approach (Vanneschi et al.)`\n",
    "Cycle crossover (CX) is a genetic operator for permutation-based representations. It ensures each gene in the offspring appears exactly once by:\n",
    "- Starting from a random index,\n",
    "- Tracing a cycle using value positions across parents,\n",
    "- Copying cycle positions from Parent 1, and the rest from Parent 2.\n",
    "\n",
    "`Problem with Our Use Case`\n",
    "In our wedding seating problem, values (table numbers) **repeat**, unlike in permutations. This breaks the classic CX logic, which assumes **unique values**.\n",
    "\n",
    "`Our Adaptation`\n",
    "We modified CX to work with **non-unique values**:\n",
    "- Built dictionaries mapping each table number to its list of positions in each parent.\n",
    "- Traversed cycles using index positions, not values.\n",
    "- Inherited values from Parent 1 at cycle positions, and from Parent 2 elsewhere.\n",
    "\n",
    "`Summary of Steps in our adaptation`\n",
    "1. Pick a random starting index.\n",
    "2. Build position mappings for both parents.\n",
    "3. Traverse the cycle by following table assignments through mapped indices.\n",
    "4. Create offspring by copying:\n",
    "   - Values from Parent 1 at cycle indices,\n",
    "   - Values from Parent 2 at non-cycle indices.\n",
    "\n",
    "> Adapted CX retains structural benefits while supporting repeated values — essential for table assignments.\n"
   ]
  },
  {
   "cell_type": "markdown",
   "id": "d17cfa7d",
   "metadata": {},
   "source": [
    "#### 4.1.1 Exemplifying usage of the Adapted Cycle Crossover"
   ]
  },
  {
   "cell_type": "code",
   "execution_count": 33,
   "id": "fda0a124",
   "metadata": {},
   "outputs": [
    {
     "name": "stdout",
     "output_type": "stream",
     "text": [
      "Parent 1:\n",
      "[4, 1, 1, 1, 3, 3, 4, 4, 3, 2, 3, 4, 2, 2, 2, 1]\n",
      "Parent 2:\n",
      "[2, 2, 4, 3, 2, 1, 3, 2, 1, 3, 4, 4, 3, 1, 4, 1]\n",
      "------ Crossover Result ------\n",
      "Offspring 1:\n",
      "[4, 2, 4, 3, 2, 1, 3, 2, 1, 3, 4, 4, 3, 1, 2, 1]\n",
      "Offspring 2:\n",
      "[2, 1, 1, 1, 3, 3, 4, 4, 3, 2, 3, 4, 2, 2, 4, 1]\n"
     ]
    }
   ],
   "source": [
    "# Define consistent settings\n",
    "tables = 4\n",
    "attendees = 16\n",
    "\n",
    "# Generate two random parent solutions\n",
    "parent1 = Wedding_Solution(tables=tables, attendees=attendees)\n",
    "parent2 = Wedding_Solution(tables=tables, attendees=attendees)\n",
    "\n",
    "# Apply adapted cycle crossover\n",
    "offspring_repr1, offspring_repr2 = cycle_crossover(parent1.repr, parent2.repr)\n",
    "\n",
    "# Display results\n",
    "print(\"Parent 1:\")\n",
    "print(parent1.repr)\n",
    "print(\"Parent 2:\")\n",
    "print(parent2.repr)\n",
    "print(\"------ Crossover Result ------\")\n",
    "print(\"Offspring 1:\")\n",
    "print(offspring_repr1)\n",
    "print(\"Offspring 2:\")\n",
    "print(offspring_repr2)\n"
   ]
  },
  {
   "cell_type": "markdown",
   "id": "78a1ff60",
   "metadata": {},
   "source": [
    "### 4.2 Order Crossover\n",
    "\n",
    "#### Modified Order Crossover (MOC)\n",
    "\n",
    "`1. Summary`\n",
    "\n",
    "Modified Order Crossover (MOC) is a permutation-preserving crossover operator designed for problems like the Travelling Salesman Problem (TSP), where offspring must represent valid permutations.\n",
    "\n",
    "`Core Idea`\n",
    "Instead of selecting multiple random positions, MOC:\n",
    "- Selects a **single crossover point**.\n",
    "- **Inherits all genes to the right** of this point from one parent.\n",
    "- Then fills the remaining genes from the other parent, **preserving order** and **excluding duplicates**.\n",
    "\n",
    "`Steps`\n",
    "1. Randomly choose a **crossover point**.\n",
    "2. Copy all genes **to the right** of the crossover point from Parent 1 into Offspring 1.\n",
    "3. Fill the **remaining genes** from Parent 2, in order, **skipping values already present**.\n",
    "4. Apply the same logic in reverse for Offspring 2.\n",
    "\n",
    "> Reference: Umbarkar *et al.* (2015) – *Crossover Operators in Genetic Algorithms: A Review*\n",
    ">\n",
    "> Source: https://ictactjournals.in/paper/IJSC_V6_I1_paper_4_pp_1083_1092.pdf\n",
    "\n",
    "---\n",
    "\n",
    "#### Our Approach – Inspired by MOC\n",
    "\n",
    "`Summary`\n",
    "Our crossover logic follows the same goal of recombining parts of both parents while preserving structure, but differs in implementation:\n",
    "\n",
    "`Differences from MOC`\n",
    "- Instead of copying the full **right substring**, we:\n",
    "  - Select a **random mid-segment** (of limited length) from each parent.\n",
    "- Fill the rest of the offspring using the **relative order** of the other parent (excluding duplicated values).\n",
    "- This introduces more **localized variation** and **higher diversity** across trials.\n",
    "\n",
    "`Steps in Our Adaptation`\n",
    "1. Randomly select a **substring** (e.g., 2 to 10 positions) from each parent.\n",
    "2. Insert these substrings in the same index range of the offspring.\n",
    "3. From the other parent, remove values in the substring and **preserve their order**.\n",
    "4. Fill remaining positions around the inserted substring to complete the offspring.\n",
    "\n",
    "\n",
    "`Why This Works`\n",
    "This adaptation maintains the core idea of order preservation and value uniqueness while offering more flexible disruption. It is better suited for our **wedding seating optimization** problem where the solution is **not a strict permutation** but still benefits from **balanced inheritance** of structure.\n",
    "\n"
   ]
  },
  {
   "cell_type": "markdown",
   "id": "60406917",
   "metadata": {},
   "source": [
    "#### 4.2.1 Exemplifying usage of the Adapted Order Crossover"
   ]
  },
  {
   "cell_type": "code",
   "execution_count": 36,
   "id": "7c3d5166",
   "metadata": {},
   "outputs": [
    {
     "name": "stdout",
     "output_type": "stream",
     "text": [
      "Parent 1: [4, 2, 1, 4, 1, 3, 2, 4, 1, 1, 2, 2, 3, 4, 3, 3]\n",
      "Parent 2: [3, 2, 3, 2, 1, 3, 4, 4, 4, 1, 2, 2, 4, 1, 1, 3]\n",
      "------ Order Crossover Result ------\n",
      "Offspring 1: [3, 2, 3, 2, 1, 3, 4, 4, 4, 1, 2, 2, 3, 4, 1, 1]\n",
      "Offspring 2: [4, 2, 1, 4, 1, 3, 2, 4, 1, 1, 2, 2, 4, 3, 3, 3]\n"
     ]
    }
   ],
   "source": [
    "tables = 4\n",
    "attendees = 16\n",
    "\n",
    "# Generate two parent solutions\n",
    "parent1 = Wedding_Solution(tables=tables, attendees=attendees)\n",
    "parent2 = Wedding_Solution(tables=tables, attendees=attendees)\n",
    "\n",
    "# Apply the adapted order crossover\n",
    "offspring1, offspring2 = order_crossover(parent1.repr, parent2.repr)\n",
    "\n",
    "# Display input parents and resulting offspring\n",
    "print(\"Parent 1:\", parent1.repr)\n",
    "print(\"Parent 2:\", parent2.repr)\n",
    "print(\"------ Order Crossover Result ------\")\n",
    "print(\"Offspring 1:\", offspring1)\n",
    "print(\"Offspring 2:\", offspring2)"
   ]
  },
  {
   "cell_type": "markdown",
   "id": "e78a9b2f",
   "metadata": {},
   "source": [
    "### FOR UNDERSTANDING THE ORDER CROSSOVER\n",
    "(Click to view better)\n",
    "\n",
    "[2, 3, 3, 4, 4, 1, 2, 3, 1, 2, 2, 3, 4, 1, 1, 4] <- parent 1\n",
    "[1, 1, 1, 2, 4, 2, 4, 2, 1, 3, 3, 2, 4, 3, 3, 4] <- parent 2\n",
    "\n",
    "Make offspring 1\n",
    "[4, 4, 1, 2, 3, 1, 2] < will copy from parent 1 to child 1 (subseciton 1)\n",
    "\n",
    "[1, 1, 1, 2, 4, 2, 4, 2, 1, 3, 3, 2, 4, 3, 3, 4] <- parent 2\n",
    "[1, 1, _, 2, 4, 2, 4, _, _, 3, 3, _, _, 3, _, _] <- parent 2 (removed the last versions of the numbers using subsection 1)\n",
    "\n",
    "[1, 1, 2,                      4, 2, 4, 3, 3, 3] < - parent 2 condensed\n",
    "[_, _, _, 4, 4, 1, 2, 3, 1, 2, _, _, _, _, _, _] < - offspring 1\n",
    "\n",
    "[1, 1, 2, 4, 4, 1, 2, 3, 1, 2, 4, 2, 4, 3, 3, 3] < - complete offspring 1\n",
    "\n",
    "------------------------------------------------\n",
    "\n",
    "Make offspring 2\n",
    "[2, 4, 2, 4, 2, 1, 3] < will copy from parent 2 to child 2 (subseciton 2)\n",
    "\n",
    "[2, 3, 3, 4, 4, 1, 2, 3, 1, 2, 2, 3, 4, 1, 1, 4] <- parent 1\n",
    "[2, 3, 3, 4, 4, 1, _, 3, 1, _, _, _, _, 1, _, _] <- parent 1 (removed the last versions of the numbers using subsection 1)\n",
    "\n",
    "[2, 3, 3,                      4, 4, 1, 3, 1, 1] < - parent 1 condensed\n",
    "[_, _, _, 2, 4, 2, 4, 2, 1, 3, _, _, _, _, _, _] < - offspring 2\n",
    "\n",
    "[2, 3, 3, 2, 4, 2, 4, 2, 1, 3, 4, 4, 1, 3, 1, 1] < - complete offspring 1\n",
    "\n",
    "------------------------------------------------\n",
    "\n",
    "[1, 1, 2, 4, 4, 1, 2, 3, 1, 2, 4, 2, 4, 3, 3, 3] < - offspring 1\n",
    "[2, 3, 3, 2, 4, 2, 4, 2, 1, 3, 4, 4, 1, 3, 1, 1] < - offspring 2"
   ]
  },
  {
   "cell_type": "code",
   "execution_count": null,
   "id": "436ee433",
   "metadata": {},
   "outputs": [],
   "source": [
    "#order1 = Wedding_Solution(repr=order_repr[0], tables=tables, attendees=attendees)\n",
    "#order1.pretty_print()"
   ]
  },
  {
   "cell_type": "code",
   "execution_count": null,
   "id": "0b89bb88",
   "metadata": {},
   "outputs": [],
   "source": [
    "#order2 = Wedding_Solution(repr=order_repr[1], tables=tables, attendees=attendees)\n",
    "#order2.pretty_print()"
   ]
  },
  {
   "cell_type": "markdown",
   "id": "802cadb2",
   "metadata": {},
   "source": [
    "## 5. Comparing different setups for the Genetic algorithms\n"
   ]
  },
  {
   "cell_type": "code",
   "execution_count": 3,
   "id": "06f9944d",
   "metadata": {},
   "outputs": [
    {
     "name": "stdout",
     "output_type": "stream",
     "text": [
      "Trial 1/2\n",
      "Number of generations:  5\n",
      "Mutation: greedy_swap_mutation, Crossover: cycle_crossover, Selection: fitness_proportionate_selection\n",
      "Best solution fitness: 25000\n",
      "Trial 2/2\n",
      "Number of generations:  5\n",
      "Mutation: greedy_swap_mutation, Crossover: cycle_crossover, Selection: fitness_proportionate_selection\n",
      "Best solution fitness: 33200\n",
      "Debug 1 - run_trials_function (remove later):[[19200, 19400, 22400, 23100, 24300, 25000], [21400, 24700, 25600, 31800, 33200, 33200]] \n"
     ]
    },
    {
     "data": {
      "image/png": "[encoded data removed]",
      "text/plain": [
       "<Figure size 1000x500 with 1 Axes>"
      ]
     },
     "metadata": {},
     "output_type": "display_data"
    }
   ],
   "source": [
    "ga_best_solutions, ga_all_fitness_histories, ga_avg_fitness_per_iter = run_trials_avg_fitness_per_iteration(\n",
    "    optimization_algo=\"GA\",\n",
    "    trials=2,\n",
    "    max_iter=5,\n",
    "    verbose=False,\n",
    "\n",
    "    # GA-specific\n",
    "    mutation_function=greedy_swap_mutation,\n",
    "    crossover_function=cycle_crossover,\n",
    "    selection_algorithm=fitness_proportionate_selection,\n",
    "    pop_size=10,\n",
    "    xo_prob=0.8,\n",
    "    mut_prob=1,\n",
    "    elitism=True\n",
    ")\n"
   ]
  },
  {
   "cell_type": "markdown",
   "id": "6dbf4e88",
   "metadata": {},
   "source": [
    "### Suggested Evaluation Approach for GA Configurations (Staged + Statistical Testing)\n",
    "\n",
    "To avoid testing all 36 combinations (3 selection × 4 mutation × 3 crossover), we use a **controlled staged testing strategy** and assess statistical significance at the end.\n",
    "\n",
    "---\n",
    "\n",
    "#### Step 1: Fix Selection + Crossover → Test All Mutations\n",
    "\n",
    "| What is fixed           | Value (Example)                   |\n",
    "|-------------------------|-----------------------------------|\n",
    "| Selection               | `tournament_selection`            |\n",
    "| Crossover               | `cycle_crossover`                 |\n",
    "\n",
    "🧪 **Vary mutation only**:\n",
    "- `greedy_swap_mutation`\n",
    "- `scramble_mutation`\n",
    "- `inversion_mutation`\n",
    "- `tableswap_mutation`\n",
    "\n",
    "Select the **best-performing mutation** based on average fitness over 30 trials.\n",
    "\n",
    "---\n",
    "\n",
    "#### ✅ Step 2: Fix Best Mutation + Same Crossover → Test All Selection Methods\n",
    "\n",
    "| What is fixed           | Value                             |\n",
    "|-------------------------|-----------------------------------|\n",
    "| Mutation                | ✅ From Step 1                     |\n",
    "| Crossover               | Same as Step 1 (`cycle_crossover`) |\n",
    "\n",
    "**Vary selection only**:\n",
    "- `fitness_proportionate_selection`\n",
    "- `ranking_selection`\n",
    "- `tournament_selection`\n",
    "\n",
    "Select the **best-performing selection** method.\n",
    "\n",
    "---\n",
    "\n",
    "#### Step 3: Fix Best Mutation + Best Selection → Test All Crossover Methods\n",
    "\n",
    "| What is fixed           | Value                             |\n",
    "|-------------------------|-----------------------------------|\n",
    "| Mutation                | ✅ From Step 1                     |\n",
    "| Selection               | ✅ From Step 2                     |\n",
    "\n",
    "🧪 **Vary crossover only**:\n",
    "- `cycle_crossover`\n",
    "- `order_crossover`\n",
    "- (optional) `uniform_crossover`\n",
    "\n",
    "Select the **best crossover**.\n",
    "\n",
    "---\n",
    "\n",
    "#### Step 4: Final Evaluation + Statistical Significance\n",
    "\n",
    "- Run 30 trials for:\n",
    "  - Best GA configuration (from steps above)\n",
    "  - Best SA configuration\n",
    "  - Best HC configuration\n",
    "\n",
    "- **Evaluate** using:\n",
    "  - `avg_fitness_per_iteration` (for convergence plots)\n",
    "  - `final_fitness_values` (for statistical testing)\n",
    "\n",
    "- **Run statistical test** using:\n",
    "\n",
    "```python\n",
    "evaluate_statistical_significance_differece_algorithm_fitnesses(\n",
    "    ga_best_final_fitnesses,\n",
    "    hc_best_final_fitnesses,\n",
    "    label_1=\"GA\",\n",
    "    label_2=\"HC\"\n",
    ")\n"
   ]
  }
 ],
 "metadata": {
  "kernelspec": {
   "display_name": "Python 3",
   "language": "python",
   "name": "python3"
  },
  "language_info": {
   "codemirror_mode": {
    "name": "ipython",
    "version": 3
   },
   "file_extension": ".py",
   "mimetype": "text/x-python",
   "name": "python",
   "nbconvert_exporter": "python",
   "pygments_lexer": "ipython3",
   "version": "3.10.7"
  }
 },
 "nbformat": 4,
 "nbformat_minor": 5
}
