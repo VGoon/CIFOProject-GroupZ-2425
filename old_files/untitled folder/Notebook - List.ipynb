{
 "cells": [
  {
   "cell_type": "code",
   "execution_count": 2,
   "id": "91188268",
   "metadata": {},
   "outputs": [],
   "source": [
    "import pandas as pd\n",
    "\n",
    "# Show all rows and columns\n",
    "pd.set_option('display.max_rows', None)\n",
    "pd.set_option('display.max_columns', None)\n",
    "\n",
    "# If needed, also expand the width\n",
    "pd.set_option('display.width', None)\n",
    "pd.set_option('display.max_colwidth', None)  # or a large int\n",
    "\n",
    "from copy import deepcopy\n",
    "from random import randint, choice\n",
    "import random\n",
    "import numpy as np\n",
    "\n",
    "# from library.solution import Solution\n",
    "# from library.algorithms.hill_climbing import hill_climbing\n",
    "# from library.algorithms.simulated_annealing import simulated_annealing\n",
    "from library.wedding_solution_list import Wedding_Solution"
   ]
  },
  {
   "cell_type": "code",
   "execution_count": null,
   "id": "1ccfc405",
   "metadata": {},
   "outputs": [],
   "source": [
    "from library.solution import Solution\n",
    "import pandas as pd\n",
    "# from random import randint\n",
    "# import random\n",
    "fitness_grid = pd.read_csv(\"library/wedding_seat_data.csv\")\n",
    "\n",
    "class Wedding_Solution(Solution):\n",
    "    def __init__(self, repr=None, tables=8, attendees=64, values_grid=fitness_grid):\n",
    "        self.tables = tables\n",
    "        self.attendees = attendees\n",
    "        self.values_grid = values_grid\n",
    "        self.seats_per_table = int(attendees / tables)\n",
    "\n",
    "        if repr:\n",
    "            repr = self._validate_repr(repr)\n",
    "\n",
    "        super().__init__(repr=repr)\n",
    "\n",
    "    # only used to validate the given representation (random initialization already follows these rules)\n",
    "    def _validate_repr(self, repr):\n",
    "        # repr needs to be a dictionary\n",
    "        if not isinstance(repr, list):\n",
    "            raise TypeError(\"Representation must be a list.\")\n",
    "        \n",
    "        # this ensures that the partitions are always even and the same amounts\n",
    "        if not (self.attendees / self.tables).is_integer():\n",
    "            raise ValueError(\"The number of attendees and tables for this solution must divide evenly into each other.\")\n",
    "        \n",
    "        # all the values in the repr need to be an int, if not - change to an int\n",
    "        if not all([isinstance(table_num, int) for table_num in repr]):\n",
    "            repr = [int(table) for table in repr]\n",
    "\n",
    "        # the number of unique numbers in repr need to be the same as the number of tables defined\n",
    "        if len(set(repr)) != self.tables:\n",
    "            raise ValueError(\"Missing a table number from representation assignment: Table(s)\", set(range(1,self.tables+1)) - set(repr))\n",
    "        \n",
    "        # there needs to be the same number of ppl at each table\n",
    "        if not all(repr.count(x) == self.seats_per_table for x in range(1,self.tables)):\n",
    "            raise ValueError(\"The number of people assigned to each table need to be the same.\")\n",
    "        \n",
    "        # the length of all the attendees need to match the defined variable for attendees\n",
    "        if len(repr) != self.attendees:\n",
    "            raise ValueError(\"The total number of attendees in the representation need to match the defined number of attendees\")\n",
    "        \n",
    "        return repr\n",
    "\n",
    "    # Override the superclass's methods\n",
    "    def random_initial_representation(self):\n",
    "        seats = []\n",
    "        for i in range(1,self.tables+1): # generates the same number of numbers in a row ([1] * 5 = [1,1,1,1,1])\n",
    "            seats = seats + [i] * self.seats_per_table\n",
    "        random.shuffle(seats) # randomly assign tables to participants\n",
    "        return seats\n",
    "\n",
    "    # returns the fitness of the representation / solution\n",
    "    def fitness(self):\n",
    "        fitness = 0\n",
    "        for table_num in range(1, self.tables+1): # loop through the tables\n",
    "            fitness += self.table_fitness(table_num)\n",
    "\n",
    "        return fitness\n",
    "    \n",
    "    # checks the fitness of a specific table instead of all the tables\n",
    "    def table_fitness(self, table):\n",
    "        fitness = 0\n",
    "        table_seats = [i for i, x in enumerate(self.repr) if x == table]\n",
    "        table_seats = [x + 1 for x in table_seats] # add 1 to everything to match the fitness grid\n",
    "        people_seen = []\n",
    "        for personA in table_seats: # loop through the people at the table \n",
    "            people_seen.append(personA) # make sure to skip personA's score with themself\n",
    "            for personB in table_seats: # compare person A with everyone else (personB) at the table\n",
    "                if personB not in people_seen: # skip the people that were already counted to not count them twice\n",
    "                    fitness += self.values_grid[self.values_grid['idx'] == personA][str(personB)].values[0]\n",
    "        return fitness\n",
    "    \n",
    "    # clearly shows which person sits at which table for debugging purposes\n",
    "    def pretty_print(self):\n",
    "        tables = {i: [] for i in range(1, self.tables+1)}  # Tables 1 through 8\n",
    "\n",
    "        for idx, table in enumerate(self.repr):\n",
    "            tables[table].append(idx)\n",
    "\n",
    "        print(\"----------SEATING ARRANGEMENTS----------\")\n",
    "        for table_num in range(1, self.tables+1): \n",
    "            # checks to see if its single digit - if so, add a space for cleaner reading\n",
    "            # also adds 1 so that it is clear which person is being referred to\n",
    "            indices = [f\"{i+1:2}\" for i in tables[table_num]]\n",
    "            print(f\"Table {table_num}: [{', '.join(indices)}]\")\n",
    "        print(\"----------------------------------------\")"
   ]
  },
  {
   "cell_type": "code",
   "execution_count": 3,
   "id": "75902d97",
   "metadata": {},
   "outputs": [
    {
     "name": "stdout",
     "output_type": "stream",
     "text": [
      "ASSIGNED INITIALIZATION: \n",
      "Repr:  [1, 3, 1, 1, 4, 2, 4, 4, 3, 3, 2, 2]\n",
      "Seats per table:  3\n",
      "Fitness:  7000\n",
      "\n",
      "RANDOM INITIALIZATION: \n",
      "Repr:  [3, 2, 1, 3, 2, 4, 1, 1, 4, 3, 2, 4]\n",
      "Seats per table:  3\n",
      "Fitness:  2600\n"
     ]
    }
   ],
   "source": [
    "tables = 4\n",
    "attendees = 12\n",
    "initial_solution = [1, 3, 1, 1, 4, 2, 4, 4, 3, 3, 2, 2]\n",
    "repr_initial_solution = Wedding_Solution(repr=initial_solution, tables=tables, attendees=attendees)\n",
    "print(\"ASSIGNED INITIALIZATION: \")\n",
    "print(\"Repr: \", repr_initial_solution)\n",
    "print(\"Seats per table: \", repr_initial_solution.seats_per_table)\n",
    "print(\"Fitness: \", repr_initial_solution.fitness())\n",
    "\n",
    "print(\"\\nRANDOM INITIALIZATION: \")\n",
    "repr = Wedding_Solution(tables=tables, attendees=attendees)\n",
    "print(\"Repr: \", repr)\n",
    "print(\"Seats per table: \", repr.seats_per_table)\n",
    "print(\"Fitness: \", repr.fitness())"
   ]
  },
  {
   "cell_type": "code",
   "execution_count": 4,
   "id": "a2b3c99e",
   "metadata": {},
   "outputs": [],
   "source": [
    "class WeddingGASolution(Wedding_Solution):\n",
    "    def __init__(\n",
    "        self,\n",
    "        mutation_function,\n",
    "        crossover_function,\n",
    "        repr = None\n",
    "    ):\n",
    "        super().__init__(\n",
    "            repr=repr,\n",
    "        )\n",
    "\n",
    "        # Save as attributes for access in methods\n",
    "        self.mutation_function = mutation_function\n",
    "        self.crossover_function = crossover_function\n",
    "\n",
    "    def mutation(self, mut_prob):\n",
    "        # Apply mutation function to representation\n",
    "        new_repr = self.mutation_function(self.repr, mut_prob)\n",
    "        # Create and return individual with mutated representation\n",
    "        return WeddingGASolution(\n",
    "            selection_function = self.selection_function,\n",
    "            mutation_function=self.mutation_function,\n",
    "            crossover_function=self.crossover_function,\n",
    "            repr=new_repr\n",
    "        )\n",
    "\n",
    "    def crossover(self, other_solution):\n",
    "        # Apply crossover function to self representation and other solution representation\n",
    "        offspring1_repr, offspring2_repr = self.crossover_function(self.repr, other_solution.repr)\n",
    "\n",
    "        # Create and return offspring with new representations\n",
    "        return (\n",
    "            WeddingGASolution(\n",
    "                selection_function = self.selection_function,\n",
    "                mutation_function=self.mutation_function,\n",
    "                crossover_function=self.crossover_function,\n",
    "                repr=offspring1_repr\n",
    "            ),\n",
    "            WeddingGASolution(\n",
    "                selection_function = self.selection_function,\n",
    "                mutation_function=self.mutation_function,\n",
    "                crossover_function=self.crossover_function,\n",
    "                repr=offspring2_repr\n",
    "            )\n",
    "        )"
   ]
  },
  {
   "cell_type": "code",
   "execution_count": 5,
   "id": "e948d6de",
   "metadata": {},
   "outputs": [
    {
     "name": "stdout",
     "output_type": "stream",
     "text": [
      "[8, 6, 7, 5, 5, 3, 4, 4, 4, 3, 1, 7, 1, 3, 1, 4, 3, 3, 4, 7, 5, 8, 8, 1, 6, 8, 8, 8, 3, 5, 7, 6, 7, 5, 7, 3, 4, 6, 2, 5, 4, 1, 2, 6, 8, 3, 6, 8, 7, 2, 5, 6, 2, 2, 2, 4, 7, 1, 1, 5, 1, 6, 2, 2]\n",
      "----------SEATING ARRANGEMENTS----------\n",
      "Table 1: [11, 13, 15, 24, 42, 58, 59, 61]\n",
      "Table 2: [39, 43, 50, 53, 54, 55, 63, 64]\n",
      "Table 3: [ 6, 10, 14, 17, 18, 29, 36, 46]\n",
      "Table 4: [ 7,  8,  9, 16, 19, 37, 41, 56]\n",
      "Table 5: [ 4,  5, 21, 30, 34, 40, 51, 60]\n",
      "Table 6: [ 2, 25, 32, 38, 44, 47, 52, 62]\n",
      "Table 7: [ 3, 12, 20, 31, 33, 35, 49, 57]\n",
      "Table 8: [ 1, 22, 23, 26, 27, 28, 45, 48]\n",
      "----------------------------------------\n"
     ]
    }
   ],
   "source": [
    "repr = Wedding_Solution()\n",
    "print(repr)\n",
    "repr.pretty_print()"
   ]
  },
  {
   "cell_type": "code",
   "execution_count": 14,
   "id": "6360169c",
   "metadata": {},
   "outputs": [
    {
     "name": "stdout",
     "output_type": "stream",
     "text": [
      "Didn't Enter.\n",
      "Chosen x:  0.62\n"
     ]
    }
   ],
   "source": [
    "mut_prob = 0.5\n",
    "x = 0.62#random.random()\n",
    "\n",
    "# if x <= mut_prob:\n",
    "#     print(\"Entered.\")\n",
    "# else:\n",
    "#     print(\"Didn't Enter.\")\n",
    "\n",
    "if x > mut_prob:\n",
    "    print(\"Didn't Enter.\")\n",
    "else:\n",
    "    print(\"Entered.\")\n",
    "\n",
    "print(\"Chosen x: \", round(x,2))"
   ]
  },
  {
   "cell_type": "code",
   "execution_count": null,
   "id": "d24ff31f",
   "metadata": {},
   "outputs": [],
   "source": [
    "# make it genuinly greedy by starting to make personB the max of the ppl with relationships (sort descending)\n",
    "def greedy_swap_mutation(representation, attendees_num, mut_prob, fitness_grid):\n",
    "    new_repr = deepcopy(representation)\n",
    "\n",
    "    # random chance to do the mutation\n",
    "    if random.random() >= mut_prob:\n",
    "        print(\"Randomly chosen to not implement.\")\n",
    "        return new_repr\n",
    "\n",
    "    # selects random different tables to swap from, \n",
    "    randomPersonA = randint(1, attendees_num)\n",
    "    randomTableA = new_repr[randomPersonA-1]\n",
    "\n",
    "    # get positivley valued neighbors\n",
    "    filtered = fitness_grid[fitness_grid['idx'] == randomPersonA].iloc[0]\n",
    "    filtered = filtered.drop('idx')\n",
    "    peopleWithRelationship = [int(x) for x in filtered[filtered > 0].index] # only getting the attendees that are valued by randomPersonA\n",
    "\n",
    "    # determine person B (don't choose someone from the same table)\n",
    "    randomPersonB = None\n",
    "    for personB in peopleWithRelationship:\n",
    "        randomPersonB = personB\n",
    "        randomTableB = new_repr[personB-1]\n",
    "        if randomTableA == randomTableB:\n",
    "            continue\n",
    "    \n",
    "    # if there are no values people that don't share the same table as A, randomly choose B\n",
    "    if randomPersonB == None:\n",
    "        randomPersonB = randint(1, attendees_num)\n",
    "        randomTableB = new_repr[randomPersonB-1]\n",
    "        while randomTableB == randomTableA: # always choose a different table\n",
    "            randomPersonB = randint(1, attendees_num)\n",
    "            randomTableB = new_repr[randomPersonB-1]\n",
    "\n",
    "    # Swap the two people between the tables\n",
    "    new_repr[randomPersonA-1] = randomTableB\n",
    "    new_repr[randomPersonB-1] = randomTableA\n",
    "\n",
    "    print(\"Swapped person #\" + str(randomPersonA) + \" at table #\" + str(randomTableA) + \" with person #\" + \n",
    "          str(randomPersonB) + \" at table #\" + str(randomTableB))\n",
    "\n",
    "    return Wedding_Solution(repr=new_repr)"
   ]
  },
  {
   "cell_type": "code",
   "execution_count": null,
   "id": "151fde75",
   "metadata": {},
   "outputs": [
    {
     "name": "stdout",
     "output_type": "stream",
     "text": [
      "Swapped person #59 at table #4 with person #9 at table #7\n"
     ]
    }
   ],
   "source": [
    "swap_repr = greedy_swap_mutation(repr.repr, repr.tables, repr.attendees, 1, repr.values_grid)\n",
    "print(swap_repr.repr)\n",
    "print(repr.repr)"
   ]
  },
  {
   "cell_type": "code",
   "execution_count": null,
   "id": "2a4aca1c",
   "metadata": {},
   "outputs": [],
   "source": [
    "def scramble_mutation(representation, attendees_num, mut_prob):\n",
    "    new_repr = deepcopy(representation)\n",
    "\n",
    "    # random chance to do the mutation\n",
    "    if random.random() >= mut_prob:\n",
    "        print(\"Randomly chosen to not implement.\")\n",
    "        return new_repr\n",
    "\n",
    "    # choose a random number of people to get a subset\n",
    "    numOfPeopleToShuffle = randint(2, attendees_num) # cant shuffle 1 person, nothing would change\n",
    "\n",
    "    startPerson = randint(0, attendees_num-numOfPeopleToShuffle) # set the biggest number it can randomly choose as the total - the number aimed to shuffle\n",
    "    stopPerson = startPerson + numOfPeopleToShuffle\n",
    "    \n",
    "    print(\"Number to shuffle: \", numOfPeopleToShuffle)\n",
    "    print(\"Range to shuffle: \" + str(startPerson) + \" - \" + str(stopPerson))\n",
    "\n",
    "    # shuffle the subset\n",
    "    peopleToShuffle = new_repr[startPerson:stopPerson]\n",
    "    random.shuffle(peopleToShuffle)\n",
    "    new_repr[startPerson:stopPerson] = peopleToShuffle\n",
    "\n",
    "    return Wedding_Solution(repr=new_repr)"
   ]
  },
  {
   "cell_type": "code",
   "execution_count": null,
   "id": "f52aa8e8",
   "metadata": {},
   "outputs": [
    {
     "name": "stdout",
     "output_type": "stream",
     "text": [
      "Number to shuffle:  35\n",
      "Range to shuffle: 5 - 40\n"
     ]
    }
   ],
   "source": [
    "scramble_repr = scramble_mutation(repr.repr, repr.attendees, 1)\n",
    "print(scramble_repr.repr)\n",
    "print(repr.repr)"
   ]
  },
  {
   "cell_type": "code",
   "execution_count": null,
   "id": "00f1ce87",
   "metadata": {},
   "outputs": [],
   "source": [
    "def inversion_mutation(representation, attendees_num, mut_prob):\n",
    "    new_repr = deepcopy(representation)\n",
    "    \n",
    "    # random chance to do the mutation\n",
    "    if random.random() >= mut_prob:\n",
    "        print(\"Randomly chosen to not implement.\")\n",
    "        return new_repr\n",
    "    \n",
    "    # choose a random number of people to get a subset\n",
    "    numOfPeopleToInvert = randint(2, attendees_num) # cant invert 1 person, nothing would change\n",
    "\n",
    "    startPerson = randint(0, attendees_num-numOfPeopleToInvert) # set the biggest number it can randomly choose as the total - the number aimed to shuffle\n",
    "    stopPerson = startPerson + numOfPeopleToInvert\n",
    "\n",
    "    print(\"Number to invert: \", numOfPeopleToInvert)\n",
    "    print(\"Range to invert: \" + str(startPerson) + \" - \" + str(stopPerson))\n",
    "\n",
    "    # shuffle the subset\n",
    "    peopleToInvert = new_repr[startPerson:stopPerson]\n",
    "    print(peopleToInvert)\n",
    "    peopleToInvert.reverse()\n",
    "    print(peopleToInvert)\n",
    "    print(\"---------\")\n",
    "    new_repr[startPerson:stopPerson] = peopleToInvert\n",
    "    \n",
    "    return Wedding_Solution(repr=new_repr)"
   ]
  },
  {
   "cell_type": "code",
   "execution_count": 485,
   "id": "eb6c28bf",
   "metadata": {},
   "outputs": [
    {
     "name": "stdout",
     "output_type": "stream",
     "text": [
      "Number to invert:  9\n",
      "Range to invert: 13 - 22\n",
      "[6, 6, 2, 4, 7, 5, 3, 3, 6]\n",
      "[6, 3, 3, 5, 7, 4, 2, 6, 6]\n",
      "---------\n",
      "[8, 7, 5, 4, 5, 8, 6, 1, 7, 6, 8, 4, 3, 6, 3, 3, 5, 7, 4, 2, 6, 6, 2, 5, 1, 1, 2, 7, 7, 6, 7, 3, 3, 3, 4, 7, 5, 8, 1, 8, 5, 3, 2, 5, 6, 2, 4, 5, 6, 1, 8, 7, 1, 2, 3, 1, 8, 4, 4, 1, 8, 2, 2, 4]\n",
      "[8, 7, 5, 4, 5, 8, 6, 1, 7, 6, 8, 4, 3, 6, 6, 2, 4, 7, 5, 3, 3, 6, 2, 5, 1, 1, 2, 7, 7, 6, 7, 3, 3, 3, 4, 7, 5, 8, 1, 8, 5, 3, 2, 5, 6, 2, 4, 5, 6, 1, 8, 7, 1, 2, 3, 1, 8, 4, 4, 1, 8, 2, 2, 4]\n"
     ]
    }
   ],
   "source": [
    "inversion_repr = inversion_mutation(repr.repr, repr.attendees, 1)\n",
    "print(inversion_repr.repr)\n",
    "print(repr.repr)"
   ]
  },
  {
   "cell_type": "markdown",
   "id": "0d256c65",
   "metadata": {},
   "source": [
    "### Crossover"
   ]
  },
  {
   "cell_type": "code",
   "execution_count": null,
   "id": "c5e58233",
   "metadata": {},
   "outputs": [
    {
     "name": "stdout",
     "output_type": "stream",
     "text": [
      "[4, 3, 8, 4, 3, 7, 4, 7, 6, 8, 3, 1, 2, 3, 6, 1, 2, 5, 7, 4, 3, 2, 2, 8, 6, 2, 5, 1, 7, 7, 5, 4, 7, 1, 5, 5, 1, 3, 6, 3, 4, 6, 1, 8, 8, 1, 5, 5, 2, 6, 6, 5, 8, 2, 8, 6, 4, 8, 7, 1, 3, 4, 7, 2]\n",
      "----------SEATING ARRANGEMENTS----------\n",
      "Table 1: [12, 16, 28, 34, 37, 43, 46, 60]\n",
      "Table 2: [13, 17, 22, 23, 26, 49, 54, 64]\n",
      "Table 3: [ 2,  5, 11, 14, 21, 38, 40, 61]\n",
      "Table 4: [ 1,  4,  7, 20, 32, 41, 57, 62]\n",
      "Table 5: [18, 27, 31, 35, 36, 47, 48, 52]\n",
      "Table 6: [ 9, 15, 25, 39, 42, 50, 51, 56]\n",
      "Table 7: [ 6,  8, 19, 29, 30, 33, 59, 63]\n",
      "Table 8: [ 3, 10, 24, 44, 45, 53, 55, 58]\n",
      "----------------------------------------\n"
     ]
    }
   ],
   "source": [
    "repr_2 = Wedding_Solution()\n",
    "print(repr_2)\n",
    "repr_2.pretty_print()"
   ]
  },
  {
   "cell_type": "markdown",
   "id": "008705ea",
   "metadata": {},
   "source": [
    "### Below not working still"
   ]
  },
  {
   "cell_type": "code",
   "execution_count": null,
   "id": "71fe4b38",
   "metadata": {},
   "outputs": [],
   "source": [
    "# def standard_crossover(parent1_repr, parent2_repr, attendees, mut_prob):\n",
    "\n",
    "#     crossoverPoint = randint(1, attendees-1) # cant be 0\n",
    "#     print(\"CrossOver Point: \" + str(crossoverPoint))\n",
    "#     child1_repr = parent1_repr[:crossoverPoint] + parent2_repr[crossoverPoint:]\n",
    "#     child2_repr = parent2_repr[:crossoverPoint] + parent1_repr[crossoverPoint:]\n",
    "\n",
    "#     print(\"Child1: \",child1_repr)\n",
    "#     print(\"Child2: \",child2_repr)\n",
    "\n",
    "#     return [Wedding_Solution(repr=child1_repr), Wedding_Solution(repr=child2_repr)]"
   ]
  },
  {
   "cell_type": "code",
   "execution_count": null,
   "id": "ee5f4a56",
   "metadata": {},
   "outputs": [],
   "source": [
    "# inversion_repr = standard_crossover(repr.repr, repr_2.repr, repr.attendees, 1)\n",
    "# # print(inversion_repr)\n",
    "# print(repr.repr)\n",
    "# print(repr_2.repr)\n",
    "# print(\"-------\")\n",
    "# print(inversion_repr[0].repr)\n",
    "# print(inversion_repr[1].repr)"
   ]
  },
  {
   "cell_type": "code",
   "execution_count": null,
   "id": "16d0a596",
   "metadata": {},
   "outputs": [],
   "source": [
    "# def custom_crossover(parent1_repr, parent2_repr):\n",
    "#     return"
   ]
  }
 ],
 "metadata": {
  "kernelspec": {
   "display_name": "base",
   "language": "python",
   "name": "python3"
  },
  "language_info": {
   "codemirror_mode": {
    "name": "ipython",
    "version": 3
   },
   "file_extension": ".py",
   "mimetype": "text/x-python",
   "name": "python",
   "nbconvert_exporter": "python",
   "pygments_lexer": "ipython3",
   "version": "3.12.2"
  }
 },
 "nbformat": 4,
 "nbformat_minor": 5
}
