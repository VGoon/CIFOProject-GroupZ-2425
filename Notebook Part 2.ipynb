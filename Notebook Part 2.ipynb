{
 "cells": [
  {
   "cell_type": "code",
   "execution_count": 6,
   "id": "d4c9a3f8",
   "metadata": {},
   "outputs": [],
   "source": [
    "# import pandas as pd\n",
    "\n",
    "# Show all rows and columns\n",
    "# pd.set_option('display.max_rows', None)\n",
    "# pd.set_option('display.max_columns', None)\n",
    "\n",
    "# If needed, also expand the width\n",
    "# pd.set_option('display.width', None)\n",
    "# pd.set_option('display.max_colwidth', None)  # or a large int\n",
    "\n",
    "from copy import deepcopy\n",
    "from random import randint, choice\n",
    "# import random\n",
    "\n",
    "# from library.solution import Solution\n",
    "# from library.algorithms.hill_climbing import hill_climbing\n",
    "# from library.algorithms.simulated_annealing import simulated_annealing\n",
    "from library.wedding_solution import Wedding_Solution"
   ]
  },
  {
   "cell_type": "code",
   "execution_count": null,
   "id": "2b7644c6",
   "metadata": {},
   "outputs": [],
   "source": [
    "# fitness_grid = pd.read_csv(\"library/wedding_seat_data.csv\")\n",
    "# fitness_grid.head()"
   ]
  },
  {
   "cell_type": "markdown",
   "id": "0cd6b4eb",
   "metadata": {},
   "source": [
    "![Wedding Problem](requirement.png)"
   ]
  },
  {
   "cell_type": "markdown",
   "id": "ebddf4d3",
   "metadata": {},
   "source": [
    "> Dont forget elitism"
   ]
  },
  {
   "cell_type": "markdown",
   "id": "170e443b",
   "metadata": {},
   "source": [
    "---"
   ]
  },
  {
   "cell_type": "code",
   "execution_count": null,
   "id": "43de28d7",
   "metadata": {},
   "outputs": [
    {
     "name": "stdout",
     "output_type": "stream",
     "text": [
      "Q:  {1: [5, 3], 2: [8, 1], 3: [2, 4], 4: [6, 7]}\n",
      "Fitness:  700\n"
     ]
    }
   ],
   "source": [
    "tables = 3\n",
    "attendees = 6\n",
    "q = Wedding_Solution(tables=4, attendees=8)\n",
    "print(\"Q: \", q)\n",
    "print(\"Fitness: \", q.fitness())"
   ]
  },
  {
   "cell_type": "code",
   "execution_count": null,
   "id": "60029b95",
   "metadata": {},
   "outputs": [],
   "source": [
    "class WeddingGASolution(Wedding_Solution):\n",
    "    def __init__(\n",
    "        self,\n",
    "        selection_function,\n",
    "        mutation_function,\n",
    "        crossover_function,\n",
    "        repr = None\n",
    "    ):\n",
    "        super().__init__(\n",
    "            repr=repr,\n",
    "        )\n",
    "\n",
    "        # Save as attributes for access in methods\n",
    "        self.selection_function = selection_function\n",
    "        self.mutation_function = mutation_function\n",
    "        self.crossover_function = crossover_function\n",
    "\n",
    "    # def selection():\n",
    "    #     return WeddingGASolution(\n",
    "    #         selection_function = self.selection_function,\n",
    "    #         mutation_function=self.mutation_function,\n",
    "    #         crossover_function=self.crossover_function,\n",
    "    #         repr=new_repr\n",
    "    #     )\n",
    "\n",
    "    def mutation(self, mut_prob):\n",
    "        # Apply mutation function to representation\n",
    "        new_repr = self.mutation_function(self.repr, mut_prob)\n",
    "        # Create and return individual with mutated representation\n",
    "        return WeddingGASolution(\n",
    "            selection_function = self.selection_function,\n",
    "            mutation_function=self.mutation_function,\n",
    "            crossover_function=self.crossover_function,\n",
    "            repr=new_repr\n",
    "        )\n",
    "\n",
    "    def crossover(self, other_solution):\n",
    "        # Apply crossover function to self representation and other solution representation\n",
    "        offspring1_repr, offspring2_repr = self.crossover_function(self.repr, other_solution.repr)\n",
    "\n",
    "        # Create and return offspring with new representations\n",
    "        return (\n",
    "            WeddingGASolution(\n",
    "                selection_function = self.selection_function,\n",
    "                mutation_function=self.mutation_function,\n",
    "                crossover_function=self.crossover_function,\n",
    "                repr=offspring1_repr\n",
    "            ),\n",
    "            WeddingGASolution(\n",
    "                selection_function = self.selection_function,\n",
    "                mutation_function=self.mutation_function,\n",
    "                crossover_function=self.crossover_function,\n",
    "                repr=offspring2_repr\n",
    "            )\n",
    "        )"
   ]
  },
  {
   "cell_type": "markdown",
   "id": "688d6757",
   "metadata": {},
   "source": [
    "# Selection\n",
    "\n",
    "Selection is the first main step of a genetic algorithm. Selection algorithms have the following properties:\n",
    "- are probabilistic\n",
    "- for any pair of individuals A and B, if A if better than B, then the probability of selecting A must be bigger than the probability of selecting B\n",
    "- all individuals must have the chance of being selected, even the worst in the population\n",
    "- when an individual is selected, it remains in population P and a copy is inserted in P'\n",
    "\n",
    "### Selection Algorithms\n",
    "\n",
    "- Fitness Proportionate Selection <span style=\"color:red\">(from class)</span>\n",
    "- Ranking\n",
    "- Tournament"
   ]
  },
  {
   "cell_type": "code",
   "execution_count": null,
   "id": "4bd0ad58",
   "metadata": {},
   "outputs": [],
   "source": [
    "def fitness_proportionate_selection(representation):\n",
    "    return"
   ]
  },
  {
   "cell_type": "code",
   "execution_count": null,
   "id": "af5bab6a",
   "metadata": {},
   "outputs": [],
   "source": [
    "def ranking_selection(representation):\n",
    "    return"
   ]
  },
  {
   "cell_type": "code",
   "execution_count": null,
   "id": "fa4b6fb7",
   "metadata": {},
   "outputs": [],
   "source": [
    "def tournament_selection(representation):\n",
    "    return"
   ]
  },
  {
   "cell_type": "markdown",
   "id": "e3cb98b6",
   "metadata": {},
   "source": [
    "## Mutation\n",
    "\n",
    "- swap mutation <span style=\"color:red\">(from class)</span>\n",
    "- scramble mutation\n",
    "- inversion mutation <span style=\"color:orange\">(will be done in class)</span>"
   ]
  },
  {
   "cell_type": "code",
   "execution_count": null,
   "id": "aec8ea8a",
   "metadata": {},
   "outputs": [],
   "source": [
    "def swap_mutation(representation):\n",
    "    neighbors = []\n",
    "    swaps = 64\n",
    "\n",
    "    while swaps >= 0:\n",
    "        randomTableA, randomTableB = randint(1, 8), randint(1, 8)\n",
    "        while randomTableB == randomTableA:\n",
    "            randomTableB = randint(1, 8)\n",
    "\n",
    "        # randomly select someone from the randomly chosen tables\n",
    "        randomPersonA = choice(representation[randomTableA])\n",
    "        randomPersonB = choice(representation[randomTableB])\n",
    "\n",
    "        # Swap the two people between the tables\n",
    "        seatingNeighbor = deepcopy(representation)\n",
    "        seatingNeighbor[randomTableA].remove(randomPersonA)\n",
    "        seatingNeighbor[randomTableB].remove(randomPersonB)\n",
    "        seatingNeighbor[randomTableA].append(randomPersonB)\n",
    "        seatingNeighbor[randomTableB].append(randomPersonA)\n",
    "\n",
    "        neighbors.append(\n",
    "            WeddingGASolution(repr=seatingNeighbor)\n",
    "        )\n",
    "        swaps -= 1"
   ]
  },
  {
   "cell_type": "code",
   "execution_count": null,
   "id": "e780e33a",
   "metadata": {},
   "outputs": [],
   "source": [
    "def scramble_mutation(representation):\n",
    "    return"
   ]
  },
  {
   "cell_type": "code",
   "execution_count": null,
   "id": "8fcf7926",
   "metadata": {},
   "outputs": [],
   "source": [
    "def inversion_mutation(representation):\n",
    "    return"
   ]
  },
  {
   "cell_type": "markdown",
   "id": "e38ad133",
   "metadata": {},
   "source": [
    "## Crossover\n",
    "\n",
    "- standard crossover <span style=\"color:red\">(from class)</span>\n",
    "- custom\n"
   ]
  },
  {
   "cell_type": "code",
   "execution_count": null,
   "id": "32076357",
   "metadata": {},
   "outputs": [],
   "source": [
    "def standard_crossover(representation):\n",
    "    return"
   ]
  },
  {
   "cell_type": "code",
   "execution_count": null,
   "id": "f0cfc729",
   "metadata": {},
   "outputs": [],
   "source": [
    "def custom_crossover(representation):\n",
    "    return"
   ]
  },
  {
   "cell_type": "code",
   "execution_count": null,
   "id": "d4c01321",
   "metadata": {},
   "outputs": [],
   "source": [
    "# # Using std crossover and scramble mutation\n",
    "# solution1 = WeddingGASolution(\n",
    "#     mutation_function=scramble_mutation,\n",
    "#     crossover_function=standard_crossover,\n",
    "#     repr=repr\n",
    "# )\n",
    "\n",
    "\n",
    "# # Using std crossover and swap mutation\n",
    "# solution2 = WeddingGASolution(\n",
    "#     mutation_function=swap_mutation,\n",
    "#     crossover_function=standard_crossover,\n",
    "#     repr=repr\n",
    "# )"
   ]
  }
 ],
 "metadata": {
  "kernelspec": {
   "display_name": "base",
   "language": "python",
   "name": "python3"
  },
  "language_info": {
   "codemirror_mode": {
    "name": "ipython",
    "version": 3
   },
   "file_extension": ".py",
   "mimetype": "text/x-python",
   "name": "python",
   "nbconvert_exporter": "python",
   "pygments_lexer": "ipython3",
   "version": "3.12.2"
  }
 },
 "nbformat": 4,
 "nbformat_minor": 5
}
