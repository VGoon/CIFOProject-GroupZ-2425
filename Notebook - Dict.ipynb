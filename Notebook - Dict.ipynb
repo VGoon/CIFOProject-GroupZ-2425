{
 "cells": [
  {
   "cell_type": "code",
   "execution_count": null,
   "id": "d4c9a3f8",
   "metadata": {},
   "outputs": [],
   "source": [
    "# import pandas as pd\n",
    "\n",
    "# Show all rows and columns\n",
    "# pd.set_option('display.max_rows', None)\n",
    "# pd.set_option('display.max_columns', None)\n",
    "\n",
    "# If needed, also expand the width\n",
    "# pd.set_option('display.width', None)\n",
    "# pd.set_option('display.max_colwidth', None)  # or a large int\n",
    "\n",
    "from copy import deepcopy\n",
    "from random import randint, choice\n",
    "import random\n",
    "import numpy as np\n",
    "\n",
    "# from library.solution import Solution\n",
    "# from library.algorithms.hill_climbing import hill_climbing\n",
    "# from library.algorithms.simulated_annealing import simulated_annealing\n",
    "from library.wedding_solution_dictionary import Wedding_Solution"
   ]
  },
  {
   "cell_type": "code",
   "execution_count": null,
   "id": "2b7644c6",
   "metadata": {},
   "outputs": [],
   "source": [
    "# fitness_grid = pd.read_csv(\"library/wedding_seat_data.csv\")\n",
    "# fitness_grid.head()"
   ]
  },
  {
   "cell_type": "markdown",
   "id": "0cd6b4eb",
   "metadata": {},
   "source": [
    "![Wedding Problem](requirement.png)"
   ]
  },
  {
   "cell_type": "markdown",
   "id": "ebddf4d3",
   "metadata": {},
   "source": [
    "> Dont forget elitism"
   ]
  },
  {
   "cell_type": "markdown",
   "id": "170e443b",
   "metadata": {},
   "source": [
    "---"
   ]
  },
  {
   "cell_type": "code",
   "execution_count": null,
   "id": "43de28d7",
   "metadata": {},
   "outputs": [
    {
     "name": "stdout",
     "output_type": "stream",
     "text": [
      "Q:  {1: [9, 4, 2], 2: [6, 12, 7], 3: [3, 10, 11], 4: [8, 5, 1]}\n",
      "Fitness:  3400\n"
     ]
    }
   ],
   "source": [
    "# tables = 4\n",
    "# attendees = 12\n",
    "# q = Wedding_Solution(tables=tables, attendees=attendees)\n",
    "# print(\"Q: \", q)\n",
    "# print(\"Fitness: \", q.fitness())"
   ]
  },
  {
   "cell_type": "code",
   "execution_count": null,
   "id": "60029b95",
   "metadata": {},
   "outputs": [],
   "source": [
    "class WeddingGASolution(Wedding_Solution):\n",
    "    def __init__(\n",
    "        self,\n",
    "        selection_function,\n",
    "        mutation_function,\n",
    "        crossover_function,\n",
    "        repr = None\n",
    "    ):\n",
    "        super().__init__(\n",
    "            repr=repr,\n",
    "        )\n",
    "\n",
    "        # Save as attributes for access in methods\n",
    "        self.selection_function = selection_function\n",
    "        self.mutation_function = mutation_function\n",
    "        self.crossover_function = crossover_function\n",
    "\n",
    "    # def selection():\n",
    "    #     return WeddingGASolution(\n",
    "    #         selection_function = self.selection_function,\n",
    "    #         mutation_function=self.mutation_function,\n",
    "    #         crossover_function=self.crossover_function,\n",
    "    #         repr=new_repr\n",
    "    #     )\n",
    "\n",
    "    def mutation(self, mut_prob):\n",
    "        # Apply mutation function to representation\n",
    "        new_repr = self.mutation_function(self.repr, mut_prob)\n",
    "        # Create and return individual with mutated representation\n",
    "        return WeddingGASolution(\n",
    "            selection_function = self.selection_function,\n",
    "            mutation_function=self.mutation_function,\n",
    "            crossover_function=self.crossover_function,\n",
    "            repr=new_repr\n",
    "        )\n",
    "\n",
    "    def crossover(self, other_solution):\n",
    "        # Apply crossover function to self representation and other solution representation\n",
    "        offspring1_repr, offspring2_repr = self.crossover_function(self.repr, other_solution.repr)\n",
    "\n",
    "        # Create and return offspring with new representations\n",
    "        return (\n",
    "            WeddingGASolution(\n",
    "                selection_function = self.selection_function,\n",
    "                mutation_function=self.mutation_function,\n",
    "                crossover_function=self.crossover_function,\n",
    "                repr=offspring1_repr\n",
    "            ),\n",
    "            WeddingGASolution(\n",
    "                selection_function = self.selection_function,\n",
    "                mutation_function=self.mutation_function,\n",
    "                crossover_function=self.crossover_function,\n",
    "                repr=offspring2_repr\n",
    "            )\n",
    "        )"
   ]
  },
  {
   "cell_type": "markdown",
   "id": "688d6757",
   "metadata": {},
   "source": [
    "# Selection\n",
    "\n",
    "Selection is the first main step of a genetic algorithm. Selection algorithms have the following properties:\n",
    "- are probabilistic\n",
    "- for any pair of individuals A and B, if A if better than B, then the probability of selecting A must be bigger than the probability of selecting B\n",
    "- all individuals must have the chance of being selected, even the worst in the population\n",
    "- when an individual is selected, it remains in population P and a copy is inserted in P'\n",
    "\n",
    "### Selection Algorithms\n",
    "\n",
    "- Fitness Proportionate Selection <span style=\"color:red\">(from class)</span>\n",
    "- Ranking\n",
    "- Tournament"
   ]
  },
  {
   "cell_type": "code",
   "execution_count": null,
   "id": "4bd0ad58",
   "metadata": {},
   "outputs": [],
   "source": [
    "def fitness_proportionate_selection(representation):\n",
    "    return"
   ]
  },
  {
   "cell_type": "code",
   "execution_count": null,
   "id": "af5bab6a",
   "metadata": {},
   "outputs": [],
   "source": [
    "def ranking_selection(representation):\n",
    "    return"
   ]
  },
  {
   "cell_type": "code",
   "execution_count": null,
   "id": "fa4b6fb7",
   "metadata": {},
   "outputs": [],
   "source": [
    "def tournament_selection(representation):\n",
    "    return"
   ]
  },
  {
   "cell_type": "markdown",
   "id": "e3cb98b6",
   "metadata": {},
   "source": [
    "## Mutation\n",
    "\n",
    "- swap mutation <span style=\"color:red\">(from class)</span>\n",
    "- scramble mutation\n",
    "- inversion mutation <span style=\"color:orange\">(will be done in class)</span>"
   ]
  },
  {
   "cell_type": "code",
   "execution_count": null,
   "id": "aec8ea8a",
   "metadata": {},
   "outputs": [],
   "source": [
    "def get_current_table(representation, person):\n",
    "    for table, guests in representation.items():\n",
    "        if person in guests:\n",
    "            return table\n",
    "    return None  # if not found\n",
    "\n",
    "def greedy_swap_mutation(representation, tables_num, mut_prob, fitness_grid):\n",
    "    new_repr = deepcopy(representation)\n",
    "\n",
    "    # random chance to do the mutation\n",
    "    if random.random() >= mut_prob:\n",
    "        return new_repr\n",
    "\n",
    "    # selects random different tables to swap from, \n",
    "    randomTableA = randint(1, tables_num)\n",
    "    randomPersonA = choice(new_repr[randomTableA])\n",
    "\n",
    "    # get positivley valued neighbors\n",
    "    filtered = fitness_grid[fitness_grid['idx'] == randomPersonA].iloc[0]\n",
    "    filtered = filtered.drop('idx')\n",
    "    peopleWithRelationship = [int(x) for x in filtered[filtered > 0].index] \n",
    "\n",
    "    # determine person B (don't choose someone from the same table)\n",
    "    randomPersonB = None\n",
    "    randomTableB = get_current_table(randomPersonB)\n",
    "\n",
    "    for person in peopleWithRelationship:\n",
    "        randomPersonB = person\n",
    "        randomTableB = get_current_table(randomPersonB)\n",
    "        if randomTableA == randomTableB:\n",
    "            continue\n",
    "    \n",
    "    # if there are no values people that don't share the same table as A, randomly choose B\n",
    "    if randomPersonB == None:\n",
    "        randomTableB = randint(1, tables_num)\n",
    "        while randomTableB != randomTableA:\n",
    "            randomPersonB = choice(new_repr[randomTableB])\n",
    "\n",
    "    # Swap the two people between the tables\n",
    "    new_repr[randomTableA].remove(randomPersonA)\n",
    "    new_repr[randomTableB].remove(randomPersonB)\n",
    "    new_repr[randomTableA].append(randomPersonB)\n",
    "    new_repr[randomTableB].append(randomPersonA)\n",
    "\n",
    "    return new_repr"
   ]
  },
  {
   "cell_type": "code",
   "execution_count": null,
   "id": "e780e33a",
   "metadata": {},
   "outputs": [],
   "source": [
    "def scramble_mutation(representation, tables_num, mut_prob):\n",
    "    new_repr = deepcopy(representation)\n",
    "\n",
    "    # random chance to do the mutation\n",
    "    if random.random() >= mut_prob:\n",
    "        return new_repr\n",
    "\n",
    "    # choose a random number of tables to shuffle from\n",
    "    numOfTablesToShuffle = randint(2, tables_num)\n",
    "    if numOfTablesToShuffle == 8:\n",
    "        startTable = 1\n",
    "        stopTable = 8\n",
    "    else:\n",
    "        startTable = randint(1, tables_num-numOfTablesToShuffle)\n",
    "        stopTable = startTable + numOfTablesToShuffle\n",
    "    \n",
    "    print(\"Number to shuffle: \", numOfTablesToShuffle)\n",
    "    print(\"Range to shuffle: \" + str(startTable) + \" - \" + str(stopTable))\n",
    "\n",
    "    # gather all the individuals from the tables and randomly shuffle them\n",
    "    attendees = []\n",
    "    for table in range(startTable, stopTable+1):\n",
    "        attendees.append(new_repr[table])\n",
    "\n",
    "    random.shuffle(attendees)\n",
    "\n",
    "    new_table_arrangements = np.array_split(attendees, len(new_repr[1]))\n",
    "    new_table_arrangements = [list(arr) for arr in new_table_arrangements] # convert to lists instead of numpy arrays\n",
    "\n",
    "    table = startTable\n",
    "    for index in range(numOfTablesToShuffle):\n",
    "        new_repr[table] = new_table_arrangements[index]\n",
    "        table += 1\n",
    "\n",
    "    return repr"
   ]
  },
  {
   "cell_type": "code",
   "execution_count": null,
   "id": "8fcf7926",
   "metadata": {},
   "outputs": [],
   "source": [
    "def inversion_mutation(representation):\n",
    "    return"
   ]
  },
  {
   "cell_type": "markdown",
   "id": "e38ad133",
   "metadata": {},
   "source": [
    "## Crossover\n",
    "\n",
    "- standard crossover <span style=\"color:red\">(from class)</span>\n",
    "- custom\n"
   ]
  },
  {
   "cell_type": "code",
   "execution_count": null,
   "id": "32076357",
   "metadata": {},
   "outputs": [],
   "source": [
    "def standard_crossover(parent1_repr, parent2_repr):\n",
    "    return"
   ]
  },
  {
   "cell_type": "code",
   "execution_count": null,
   "id": "f0cfc729",
   "metadata": {},
   "outputs": [],
   "source": [
    "def custom_crossover(parent1_repr, parent2_repr):\n",
    "    return"
   ]
  },
  {
   "cell_type": "code",
   "execution_count": null,
   "id": "d4c01321",
   "metadata": {},
   "outputs": [],
   "source": [
    "# # Using std crossover and scramble mutation\n",
    "# solution1 = WeddingGASolution(\n",
    "#     mutation_function=scramble_mutation,\n",
    "#     crossover_function=standard_crossover,\n",
    "#     repr=repr\n",
    "# )\n",
    "\n",
    "\n",
    "# # Using std crossover and swap mutation\n",
    "# solution2 = WeddingGASolution(\n",
    "#     mutation_function=swap_mutation,\n",
    "#     crossover_function=standard_crossover,\n",
    "#     repr=repr\n",
    "# )"
   ]
  }
 ],
 "metadata": {
  "kernelspec": {
   "display_name": "base",
   "language": "python",
   "name": "python3"
  },
  "language_info": {
   "codemirror_mode": {
    "name": "ipython",
    "version": 3
   },
   "file_extension": ".py",
   "mimetype": "text/x-python",
   "name": "python",
   "nbconvert_exporter": "python",
   "pygments_lexer": "ipython3",
   "version": "3.12.2"
  }
 },
 "nbformat": 4,
 "nbformat_minor": 5
}
